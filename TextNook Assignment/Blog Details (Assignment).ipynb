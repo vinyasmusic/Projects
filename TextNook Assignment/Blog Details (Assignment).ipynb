{
 "cells": [
  {
   "cell_type": "markdown",
   "metadata": {},
   "source": [
    "Fetch Title, Publish date, Likes and Comments for a blog.\n",
    "\n",
    "1. Get all links for the blog posts\n",
    "2. Get titles \n",
    "3. Get author\n",
    "4. Get publishing date \n",
    "5. Get num of likes and shares\n",
    "6. Get num of comments on each post\n",
    "7. Get contents of comments\n",
    "8. Store all the above in a data frame (Using pandas ?)\n"
   ]
  },
  {
   "cell_type": "code",
   "execution_count": 1,
   "metadata": {
    "collapsed": false
   },
   "outputs": [],
   "source": [
    "import requests\n",
    "import bs4 \n",
    "import urllib2\n",
    "import pandas as pd\n",
    "import warnings\n",
    "warnings.filterwarnings('ignore')"
   ]
  },
  {
   "cell_type": "code",
   "execution_count": 2,
   "metadata": {
    "collapsed": true
   },
   "outputs": [],
   "source": [
    "blog=requests.get(\"https://textnook.wordpress.com/\")\n",
    "\n",
    "\n",
    "blog_bs4 = bs4.BeautifulSoup(blog.text)"
   ]
  },
  {
   "cell_type": "code",
   "execution_count": 260,
   "metadata": {
    "collapsed": false
   },
   "outputs": [
    {
     "name": "stdout",
     "output_type": "stream",
     "text": [
      "Menu\n",
      "TextNook\n",
      "Post navigation\n",
      "The Flyover May Fall, Kolkata Won’t\n",
      "CHENNAI STANDS TOGETHER !!\n",
      "How to prepare just before an interview\n",
      "5 Benefits of Volunteering in College\n",
      "How to know you are overstressed in college?\n",
      "Best telephone interview tips\n",
      "What to do if you cannot sleep before an exam?\n",
      "Group Discussion Do’s and Don’ts\n",
      "What’s the best approach to exams?\n",
      "How to write a good CV\n",
      "Post navigation\n",
      "Archives\n",
      "Categories\n",
      "Follow Blog via Email\n"
     ]
    }
   ],
   "source": [
    "titles=blog_bs4.select('h1')\n",
    "\n",
    "for i in range(len(titles)):\n",
    "    if titles[i].get('rel')!=None:\n",
    "        if 'bookmark' in titles[i].get('rel'):\n",
    "            print titles[i].getText('rel')\n",
    "    else:\n",
    "        print titles[i].getText('h1')"
   ]
  },
  {
   "cell_type": "code",
   "execution_count": null,
   "metadata": {
    "collapsed": true
   },
   "outputs": [],
   "source": [
    "#How to get only the titles for a blog under H1?"
   ]
  },
  {
   "cell_type": "code",
   "execution_count": 266,
   "metadata": {
    "collapsed": false
   },
   "outputs": [
    {
     "name": "stdout",
     "output_type": "stream",
     "text": [
      "The Flyover May Fall, Kolkata Won’t\n",
      "CHENNAI STANDS TOGETHER !!\n",
      "How to prepare just before an interview\n",
      "5 Benefits of Volunteering in College\n",
      "How to know you are overstressed in college?\n",
      "Best telephone interview tips\n",
      "What to do if you cannot sleep before an exam?\n",
      "Group Discussion Do’s and Don’ts\n",
      "What’s the best approach to exams?\n",
      "How to write a good CV\n"
     ]
    }
   ],
   "source": [
    "link=urllib2.urlopen('https://textnook.wordpress.com/')\n",
    "\n",
    "soup= bs4.BeautifulSoup(link,from_encoding=\"utf-8\")\n",
    "\n",
    "blog_titles=soup.findAll('h1',class_='entry-title')\n",
    "\n",
    "titles_list=[]\n",
    "for i in range(len(blog_titles)):\n",
    "    titles_list.append(blog_titles[i].getText('bookmark'))\n",
    "\n",
    "for i in range(len(titles_list)):\n",
    "    print titles_list[i]"
   ]
  },
  {
   "cell_type": "code",
   "execution_count": 268,
   "metadata": {
    "collapsed": true
   },
   "outputs": [],
   "source": [
    "#How to get all info of a page at once and avoid multiple loops ?\n",
    "\n",
    "#How to get all pages in a blog ?"
   ]
  },
  {
   "cell_type": "code",
   "execution_count": 2,
   "metadata": {
    "collapsed": false
   },
   "outputs": [],
   "source": [
    "url='https://textnook.wordpress.com/page/'\n",
    "page_count=1\n",
    "links=[]\n",
    "while True:\n",
    "    \n",
    "    \n",
    "    try:\n",
    "        #Check if link is valid\n",
    "        urllib2.urlopen(url+str(page_count))\n",
    "           \n",
    "    except Exception:\n",
    "        #If link is invalid break the loop and decrease page count as the current page doesnt exist\n",
    "        page_count-=1\n",
    "        break\n",
    "       \n",
    "    links.append(url+str(page_count))    #Add the links to a list \n",
    "    page_count+=1                        #Increase page count\n",
    "    "
   ]
  },
  {
   "cell_type": "code",
   "execution_count": 3,
   "metadata": {
    "collapsed": false
   },
   "outputs": [],
   "source": [
    "blog_titles=[]\n",
    "for i in range(page_count):\n",
    "    link=urllib2.urlopen(links[i])\n",
    "\n",
    "    soup= bs4.BeautifulSoup(link,from_encoding=\"utf-8\")\n",
    "\n",
    "    blog_titles.append(soup.findAll('h1',class_='entry-title'))\n",
    "    \n",
    "blog_titles=[l for subl in blog_titles for l in subl ]\n"
   ]
  },
  {
   "cell_type": "code",
   "execution_count": 4,
   "metadata": {
    "collapsed": false
   },
   "outputs": [
    {
     "data": {
      "text/plain": [
       "'https://textnook.wordpress.com/2016/04/01/the-flyover-may-fall-kolkata-wont/'"
      ]
     },
     "execution_count": 4,
     "metadata": {},
     "output_type": "execute_result"
    }
   ],
   "source": [
    "blog_titles[0].find('a').get('href') #Check if proper links are appended to list or not"
   ]
  },
  {
   "cell_type": "code",
   "execution_count": 29,
   "metadata": {
    "collapsed": false
   },
   "outputs": [
    {
     "name": "stderr",
     "output_type": "stream",
     "text": [
      "Exception AttributeError: \"'Service' object has no attribute 'process'\" in <bound method Service.__del__ of <selenium.webdriver.chrome.service.Service object at 0x000000000BA52A58>> ignored\n"
     ]
    }
   ],
   "source": [
    "titles=[]\n",
    "post_date=[]\n",
    "post_author=[]\n",
    "post_category=[]\n",
    "post_likes=[]\n",
    "post_comments=[]\n",
    "for i in range(len(blog_titles)):\n",
    "    titles.append(blog_titles[i].getText())                                         #Store the post title in a list\n",
    "    link=requests.get(blog_titles[i].find('a').get('href'))\n",
    "    soup= bs4.BeautifulSoup(link.text,from_encoding=\"utf-8\")\n",
    "    post_date.append( soup.find('time').getText())                                  #Store post date in a list\n",
    "    post_author.append(soup.find('span',class_='author vcard').getText())           #Store author name in a list\n",
    "    post_category.append(soup.find('span',class_='cats-links').find('a').getText()) #Store category in a list\n",
    "    \n",
    "    if soup.find_all('div',{'class':'comment-content'}) != []::\n",
    "        comments=soup.findAll('div',{'class':'comment-content'})\n",
    "        post_comments.append(map(str,(comments[i].getText().strip('\\n') for i in range(len(comments)))))\n",
    "                        \n",
    "                        \n",
    "    else:\n",
    "        post_comments.append('None')\n",
    "        \n",
    "        "
   ]
  },
  {
   "cell_type": "code",
   "execution_count": 47,
   "metadata": {
    "collapsed": false
   },
   "outputs": [
    {
     "data": {
      "text/plain": [
       "[<iframe id=\"likes-master\" name=\"likes-master\" scrolling=\"no\" src=\"https://widgets.wp.com/likes/master.html?ver=20160429#ver=20160429\" style=\"display:none;\"></iframe>]"
      ]
     },
     "execution_count": 47,
     "metadata": {},
     "output_type": "execute_result"
    }
   ],
   "source": [
    "link=urllib2.urlopen(blog_titles[0].find('a').get('href'))\n",
    "soup= bs4.BeautifulSoup(link)\n",
    "\n",
    "soup.findAll('iframe',{'id':\"likes-master\"})\n"
   ]
  },
  {
   "cell_type": "code",
   "execution_count": 1,
   "metadata": {
    "collapsed": true
   },
   "outputs": [],
   "source": [
    "#Working till here"
   ]
  },
  {
   "cell_type": "code",
   "execution_count": 29,
   "metadata": {
    "collapsed": false
   },
   "outputs": [
    {
     "name": "stdout",
     "output_type": "stream",
     "text": [
      "NO\n"
     ]
    }
   ],
   "source": [
    "\n",
    "from selenium import webdriver  \n",
    "from selenium.webdriver.common.by import By\n",
    "from selenium.common.exceptions import NoSuchElementException  \n",
    "from selenium.webdriver.common.keys import Keys\n",
    "import time\n",
    "from selenium.webdriver.support import expected_conditions as EC\n",
    "from selenium.webdriver.support.ui import WebDriverWait\n",
    "#link=webdriver.Chrome(executable_path=\"C:\\Anaconda2\\selenium\\webdriver\\chromedriver.exe\")\n",
    "link=webdriver.Chrome()\n",
    "link.get('https://textnook.wordpress.com/2016/04/01/the-flyover-may-fall-kolkata-wont/')\n",
    "\n",
    "#time.sleep(10)\n",
    "link_source=link.page_source\n",
    "#WebDriverWait(link, timeout=10).until(link.find_element_by_tag_name(\"iframe\"))\n",
    "#link.get_attribute('innerHTML')\n",
    "#elems=WebDriverWait(link, timeout=30).until(link.find_element_by_css_selector('#jp-post-flair > div.sharedaddy.sd-sharing-enabled > div > div > ul > li.share-facebook > a > span'))\n",
    "\n",
    "try:\n",
    "    #iframe1 = link.find_elements_by_xpath('//*[@id=\"like-post-wrapper-62787491-198-5766d4382c07d\"]/iframe')\n",
    "    #link.switch_to_frame(link.find_elements_by_tag_name('iframe'))\n",
    "    elems=WebDriverWait(link,30).until(EC.visibility_of_element_located(\n",
    "            By.XPATH,'//*[@id=\"like-post-wrapper-62787491-198-5766d4382c07d\"]/iframe'))\n",
    "    \n",
    "    \n",
    "\n",
    "    elems3=link.find_elements_by_tag_name('span')\n",
    "except:\n",
    "    print \"Not found\"\n",
    "#elems = link.find_element_by_xpath('//*[@id=\"target\"]')\n",
    "#elems4=link.find_element_by_class_name('sd-content wpl-likebox')\n",
    "#elems6=link.find_element_by_css_selector('#target > div > div.wpl-count.sd-like-count')\n",
    "#elems5=link.find_element_by_css_selector('#target > div > div.wpl-count.sd-like-count > span')\n",
    "\n",
    "#link.switch_to.default_content()\n",
    "\n",
    "#elems2=link.find_element_by_id(\"span\")\n",
    "#soup = bs4.BeautifulSoup(link_source,\"html.parser\")\n",
    "#soup.findAll('div',attrs={'class': 'wpl-button like'})\n",
    "\n",
    "finally:\n",
    "    link.quit()"
   ]
  },
  {
   "cell_type": "code",
   "execution_count": null,
   "metadata": {
    "collapsed": true
   },
   "outputs": [],
   "source": []
  },
  {
   "cell_type": "code",
   "execution_count": 85,
   "metadata": {
    "collapsed": false
   },
   "outputs": [],
   "source": [
    "from spynner import Browser\n",
    "from pyquery import PyQuery\n",
    "\n",
    "browser = Browser()\n",
    "browser.set_html_parser(PyQuery)\n",
    "browser.wait(waittime=50)\n",
    "browser.load(\"https://textnook.wordpress.com/2016/04/01/the-flyover-may-fall-kolkata-wont/\")\n",
    "#browser.wait_load(50)\n",
    "\n",
    "browser.is_additional_js_loaded()\n",
    "\n",
    "l = browser.soup(\"iframe\")"
   ]
  },
  {
   "cell_type": "code",
   "execution_count": null,
   "metadata": {
    "collapsed": false
   },
   "outputs": [],
   "source": []
  },
  {
   "cell_type": "code",
   "execution_count": 76,
   "metadata": {
    "collapsed": false
   },
   "outputs": [
    {
     "data": {
      "text/plain": [
       "['\\xe2\\x86\\x90', ' by ', <Element span at 0x7eb7a98>, <Element a at 0x7e9ee58>, ' under ', <Element a at 0x7e9eea8>, 'Twitter', 'Facebook', 'Google', <Element span at 0x7eb7c78>, 'Like', 'Loading...', '\\xe2\\x86\\x90', '(required)', '(Address never made public)', '(required)', '(\\xc2\\xa0', <Element a at 0x7ea90e8>, '\\xc2\\xa0/\\xc2\\xa0', <Element a at 0x7ea9138>, '\\xc2\\xa0)', '(\\xc2\\xa0', <Element a at 0x7ea9188>, '\\xc2\\xa0/\\xc2\\xa0', <Element a at 0x7ea91d8>, '\\xc2\\xa0)', '(\\xc2\\xa0', <Element a at 0x7ea9228>, '\\xc2\\xa0/\\xc2\\xa0', <Element a at 0x7ea9278>, '\\xc2\\xa0)', '(\\xc2\\xa0', <Element a at 0x7ea92c8>, '\\xc2\\xa0/\\xc2\\xa0', <Element a at 0x7ea9318>, '\\xc2\\xa0)', ' | ', 'Follow', '%d']"
      ]
     },
     "execution_count": 76,
     "metadata": {},
     "output_type": "execute_result"
    }
   ],
   "source": [
    "l.find(\"span\").contents()"
   ]
  },
  {
   "cell_type": "code",
   "execution_count": 17,
   "metadata": {
    "collapsed": false
   },
   "outputs": [
    {
     "name": "stdout",
     "output_type": "stream",
     "text": [
      "[<script id=\"admin-bar-likes\" type=\"text/html\">\\n\\t\\t\\t&lt;div id=\"wpadminbar\" &lt;% if ( isRtl ) { %&gt; class=\"rtl\" &lt;% } %&gt; &gt;\\n\\t\\t\\t\\t&lt;div class=\"quicklinks\"&gt;\\n\\t\\t\\t\\t\\t&lt;ul&gt;&lt;li id=\"wp-admin-bar-wpl-like\"&gt;\\n\\t\\t\\t\\t\\t\\t&lt;a class=\"ab-item like\" href=\"#\"&gt;&lt;%= label %&gt;&lt;/a&gt;\\n\\t\\t\\t\\t\\t&lt;/li&gt;&lt;/ul&gt;\\n\\t\\t\\t\\t&lt;/div&gt;\\n\\t\\t\\t&lt;/div&gt;\\n\\t\\t</script>, <script id=\"post-likes\" type=\"text/html\">\\n\\t\\t\\t&lt;div class=\"sd-content wpl-likebox\"&gt;\\n\\t\\t\\t\\t&lt;% if ( canReblog &amp;&amp; canUserReblog ) { %&gt;\\n\\t\\t\\t\\t&lt;div class=\"wpl-button reblog\"&gt;\\n\\t\\t\\t\\t\\t&lt;a href=\"#\" title='&lt;%- reblog_feedback_no_html %&gt;' class='&lt;%- reblog_css_state %&gt; sd-button' rel='nofollow'&gt;\\n\\t\\t\\t\\t\\t\\t&lt;span&gt;&lt;%= reblog_label %&gt;&lt;/span&gt;\\n\\t\\t\\t\\t\\t&lt;/a&gt;\\n\\t\\t\\t\\t&lt;/div&gt;\\n\\t\\t\\t\\t&lt;% } %&gt;\\n\\n\\t\\t\\t\\t&lt;div class=\"wpl-button &lt;%- css_state %&gt;\"&gt;\\n\\t\\t\\t\\t\\t&lt;a href=\"#\" title='&lt;%- feedback_no_html %&gt;' class='&lt;%- css_state %&gt; sd-button' rel='nofollow'&gt;\\n\\t\\t\\t\\t\\t\\t&lt;span&gt;&lt;%= label %&gt;&lt;/span&gt;\\n\\t\\t\\t\\t\\t&lt;/a&gt;\\n\\t\\t\\t\\t&lt;/div&gt;\\n\\n\\t\\t\\t\\t&lt;% if ( hasLikes ) { %&gt;\\n\\t\\t\\t\\t&lt;ul class=\"wpl-avatars sd-like-gravatars\"&gt;\\n\\t\\t\\t\\t\\t&lt;% _.each( likers, function( item, key, list) { %&gt;\\n\\t\\t\\t\\t\\t\\t&lt;li class='&lt;%- item.css_class %&gt;'&gt;&lt;a href=\"&lt;%= item.profile_URL %&gt;\" title=\"&lt;%- item.name %&gt;\" class=\"wpl-liker\" rel=\"nofollow\" target=\"_parent\"&gt;\\n\\t\\t\\t\\t\\t\\t\\t&lt;img src='&lt;%= item.avatar_URL %&gt;' class='avatar avatar-30' alt='&lt;%- item.name %&gt;' width='30' height='30' /&gt;\\n\\t\\t\\t\\t\\t\\t&lt;/a&gt;&lt;/li&gt;\\n\\t\\t\\t\\t\\t&lt;% }); %&gt;\\n\\t\\t\\t\\t&lt;/ul&gt;\\n\\t\\t\\t\\t&lt;% } %&gt;\\n\\t\\t\\t\\t&lt;div class=\"wpl-count sd-like-count\"&gt;&lt;%= feedback %&gt;&lt;/div&gt;\\n\\t\\t\\t&lt;/div&gt;\\n\\t\\t</script>, <script id=\"slim-likes\" type=\"text/html\">\\n\\t\\t\\t&lt;div class=\"sd-content wpl-likebox wpl-slim-likebox\"&gt;\\n\\t\\t\\t\\t&lt;div class=\"wpl-button &lt;%- css_state %&gt;\"&gt;\\n\\t\\t\\t\\t\\t&lt;a href=\"#\" title='&lt;%- feedback_no_html %&gt;' class='&lt;%- css_state %&gt; sd-button' rel='nofollow'&gt;\\n\\t\\t\\t\\t\\t\\t&lt;span&gt;&lt;%= label %&gt;&lt;/span&gt;\\n\\t\\t\\t\\t\\t&lt;/a&gt;\\n\\t\\t\\t\\t&lt;/div&gt;\\n\\t\\t\\t&lt;/div&gt;\\n\\t\\t</script>, <script id=\"comment-likes\" type=\"text/html\">\\n\\t\\t\\t&lt;div class=\"wpl-likebox\"&gt;\\n\\t\\t\\t&lt;div id=\"comment-like\" class=\"comment-likes &lt;%- css_state %&gt;\"&gt;\\n\\t\\t\\t\\t&lt;a href=\"#\" class=\"comment-like-link\" rel=\"nofollow\"&gt;\\n\\t\\t\\t\\t\\t&lt;span&gt;&lt;%- label %&gt;&lt;/span&gt;\\n\\t\\t\\t\\t&lt;/a&gt;\\n\\t\\t\\t&lt;/div&gt;\\n\\t\\t\\t&lt;/div&gt;\\n\\t\\t</script>, <script type=\"text/javascript\">\\n\\t//&lt;![CDATA[\\n\\t\\tvar ver;\\n\\n\\t\\tvar params = location.hash.replace( /^#/, '' ).split( '&amp;' );\\n\\t\\tfor ( i = 0; i &lt; params.length; i++ ) {\\n\\t\\t\\tvar pair = params[i].split( '=' );\\n\\t\\t\\tif ( 'ver' == pair[0] ) {\\n\\t\\t\\t\\tver = pair[1];\\n\\t\\t\\t\\tbreak;\\n\\t\\t\\t}\\n\\t\\t}\\n\\n\\t\\t// Bootstrap jQuery\\n\\t\\tvar jqjs = document.createElement('script');\\n\\t\\tjqjs.src = '//s0.wp.com/wp-includes/js/jquery/jquery.js?ver=' + ver;\\n\\t\\tjqjs.type = 'text/javascript';\\n\\t\\tdocument.getElementsByTagName('head')[0].appendChild( jqjs );\\n\\n\\t\\tfunction loadScripts() {\\n\\t\\t\\tif ( ! window.jQuery ) {\\n\\t\\t\\t\\t// jQuery hasn't loaded yet. Try again in 50ms.\\n\\t\\t\\t\\t window.setTimeout( loadScripts, 50 );\\n\\t\\t\\t\\t return;\\n\\t\\t\\t}\\n\\n\\t\\t\\tvar scripts = [\\n\\t\\t\\t\\t'//s0.wp.com/wp-content/js/postmessage.js',\\n\\t\\t\\t\\t'//s0.wp.com/wp-content/js/jed/jed.js',\\n\\t\\t\\t\\t'//s0.wp.com/wp-includes/js/underscore.min.js'\\n\\t\\t\\t];\\n\\n\\t\\t\\tvar head = document.getElementsByTagName('head')[0];\\n\\t\\t\\tfor ( i = 0; i &lt; scripts.length; i++ ) {\\n\\t\\t\\t\\tvar script = document.createElement('script');\\n\\t\\t\\t\\tscript.src = scripts[i] + '?ver=' + ver;\\n\\t\\t\\t\\tscript.type = 'text/javascript';\\n\\t\\t\\t\\thead.appendChild( script );\\n\\t\\t\\t}\\n\\n\\t\\t\\tloadProxyScript();\\n\\t\\t}\\n\\t\\tloadScripts();\\n\\n\\t\\tfunction loadProxyScript() {\\n\\t\\t\\tif ( ! window.pm || ! window.Jed || ! window._ ) {\\n\\t\\t\\t\\t// libs haven't loaded yet. Try again in 50ms.\\n\\t\\t\\t\\t window.setTimeout( loadProxyScript, 50 );\\n\\t\\t\\t\\t return;\\n\\t\\t\\t}\\n\\n\\t\\t\\tvar script = document.createElement('script');\\n\\t\\t\\tscript.src = '//s0.wp.com/wp-content/js/jquery/jquery.wpcom-proxy-request.js?ver=' + ver;\\n\\t\\t\\tscript.type = 'text/javascript';\\n\\t\\t\\tdocument.getElementsByTagName('head')[0].appendChild( script );\\n\\n\\t\\t\\tloadLikesScript();\\n\\t\\t}\\n\\n\\t\\tfunction loadLikesScript() {\\n\\t\\t\\tif ( ! jQuery.wpcom_proxy_request ) {\\n\\t\\t\\t\\t// proxy hasn't loaded yet. Try again in 50ms.\\n\\t\\t\\t\\t window.setTimeout( loadLikesScript, 50 );\\n\\t\\t\\t\\t return;\\n\\t\\t\\t}\\n\\n\\t\\t\\tvar script = document.createElement('script');\\n\\t\\t\\tscript.src = 'likes-rest.js?ver=' + ver;\\n\\t\\t\\tscript.type = 'text/javascript';\\n\\t\\t\\tdocument.getElementsByTagName('head')[0].appendChild( script );\\n\\t\\t}\\n\\t//]]&gt;\\n\\t</script>, <script src=\"//s0.wp.com/wp-includes/js/jquery/jquery.js?ver=20160429\" type=\"text/javascript\"></script>, <script src=\"//s0.wp.com/wp-content/js/postmessage.js?ver=20160429\" type=\"text/javascript\"></script>, <script src=\"//s0.wp.com/wp-content/js/jed/jed.js?ver=20160429\" type=\"text/javascript\"></script>, <script src=\"//s0.wp.com/wp-includes/js/underscore.min.js?ver=20160429\" type=\"text/javascript\"></script>]\n"
     ]
    }
   ],
   "source": [
    "from bs4 import BeautifulSoup\n",
    "from selenium import webdriver\n",
    "from selenium.webdriver.common.by import By\n",
    "from selenium.webdriver.support.ui import WebDriverWait\n",
    "from selenium.webdriver.support import expected_conditions as EC\n",
    "\n",
    "\n",
    "driver = webdriver.Chrome()\n",
    "driver.get(\"https://textnook.wordpress.com/2016/04/01/the-flyover-may-fall-kolkata-wont/\")\n",
    "try:\n",
    "\n",
    "    # wait for the page to load, switch to iframe\n",
    "    wait = WebDriverWait(driver, 30)\n",
    "    frame = wait.until(EC.presence_of_element_located((By.ID, \"likes-master\")))\n",
    "    driver.switch_to.frame(frame)\n",
    "    #wait.until(EC.presence_of_element_located((By.CLASS_NAME, \"wpl-count-text\")))\n",
    "\n",
    "    # get the page source\n",
    "    page_source = driver.page_source\n",
    "    page = driver.get_screenshot_as_png()\n",
    "    driver.close()\n",
    "\n",
    "    # parse the HTML\n",
    "    soup = BeautifulSoup(page_source, \"html.parser\")\n",
    "    script = soup.find_all(\"script\")\n",
    "    print(script)\n",
    "except:\n",
    "    print \"Not found\"\n"
   ]
  },
  {
   "cell_type": "code",
   "execution_count": 25,
   "metadata": {
    "collapsed": false
   },
   "outputs": [
    {
     "data": {
      "text/plain": [
       "<!DOCTYPE html>\\n<html xmlns=\"http://www.w3.org/1999/xhtml\"><head>\\n<script id=\"admin-bar-likes\" type=\"text/html\">\\n\\t\\t\\t&lt;div id=\"wpadminbar\" &lt;% if ( isRtl ) { %&gt; class=\"rtl\" &lt;% } %&gt; &gt;\\n\\t\\t\\t\\t&lt;div class=\"quicklinks\"&gt;\\n\\t\\t\\t\\t\\t&lt;ul&gt;&lt;li id=\"wp-admin-bar-wpl-like\"&gt;\\n\\t\\t\\t\\t\\t\\t&lt;a class=\"ab-item like\" href=\"#\"&gt;&lt;%= label %&gt;&lt;/a&gt;\\n\\t\\t\\t\\t\\t&lt;/li&gt;&lt;/ul&gt;\\n\\t\\t\\t\\t&lt;/div&gt;\\n\\t\\t\\t&lt;/div&gt;\\n\\t\\t</script>\\n<script id=\"post-likes\" type=\"text/html\">\\n\\t\\t\\t&lt;div class=\"sd-content wpl-likebox\"&gt;\\n\\t\\t\\t\\t&lt;% if ( canReblog &amp;&amp; canUserReblog ) { %&gt;\\n\\t\\t\\t\\t&lt;div class=\"wpl-button reblog\"&gt;\\n\\t\\t\\t\\t\\t&lt;a href=\"#\" title='&lt;%- reblog_feedback_no_html %&gt;' class='&lt;%- reblog_css_state %&gt; sd-button' rel='nofollow'&gt;\\n\\t\\t\\t\\t\\t\\t&lt;span&gt;&lt;%= reblog_label %&gt;&lt;/span&gt;\\n\\t\\t\\t\\t\\t&lt;/a&gt;\\n\\t\\t\\t\\t&lt;/div&gt;\\n\\t\\t\\t\\t&lt;% } %&gt;\\n\\n\\t\\t\\t\\t&lt;div class=\"wpl-button &lt;%- css_state %&gt;\"&gt;\\n\\t\\t\\t\\t\\t&lt;a href=\"#\" title='&lt;%- feedback_no_html %&gt;' class='&lt;%- css_state %&gt; sd-button' rel='nofollow'&gt;\\n\\t\\t\\t\\t\\t\\t&lt;span&gt;&lt;%= label %&gt;&lt;/span&gt;\\n\\t\\t\\t\\t\\t&lt;/a&gt;\\n\\t\\t\\t\\t&lt;/div&gt;\\n\\n\\t\\t\\t\\t&lt;% if ( hasLikes ) { %&gt;\\n\\t\\t\\t\\t&lt;ul class=\"wpl-avatars sd-like-gravatars\"&gt;\\n\\t\\t\\t\\t\\t&lt;% _.each( likers, function( item, key, list) { %&gt;\\n\\t\\t\\t\\t\\t\\t&lt;li class='&lt;%- item.css_class %&gt;'&gt;&lt;a href=\"&lt;%= item.profile_URL %&gt;\" title=\"&lt;%- item.name %&gt;\" class=\"wpl-liker\" rel=\"nofollow\" target=\"_parent\"&gt;\\n\\t\\t\\t\\t\\t\\t\\t&lt;img src='&lt;%= item.avatar_URL %&gt;' class='avatar avatar-30' alt='&lt;%- item.name %&gt;' width='30' height='30' /&gt;\\n\\t\\t\\t\\t\\t\\t&lt;/a&gt;&lt;/li&gt;\\n\\t\\t\\t\\t\\t&lt;% }); %&gt;\\n\\t\\t\\t\\t&lt;/ul&gt;\\n\\t\\t\\t\\t&lt;% } %&gt;\\n\\t\\t\\t\\t&lt;div class=\"wpl-count sd-like-count\"&gt;&lt;%= feedback %&gt;&lt;/div&gt;\\n\\t\\t\\t&lt;/div&gt;\\n\\t\\t</script>\\n<script id=\"slim-likes\" type=\"text/html\">\\n\\t\\t\\t&lt;div class=\"sd-content wpl-likebox wpl-slim-likebox\"&gt;\\n\\t\\t\\t\\t&lt;div class=\"wpl-button &lt;%- css_state %&gt;\"&gt;\\n\\t\\t\\t\\t\\t&lt;a href=\"#\" title='&lt;%- feedback_no_html %&gt;' class='&lt;%- css_state %&gt; sd-button' rel='nofollow'&gt;\\n\\t\\t\\t\\t\\t\\t&lt;span&gt;&lt;%= label %&gt;&lt;/span&gt;\\n\\t\\t\\t\\t\\t&lt;/a&gt;\\n\\t\\t\\t\\t&lt;/div&gt;\\n\\t\\t\\t&lt;/div&gt;\\n\\t\\t</script>\\n<script id=\"comment-likes\" type=\"text/html\">\\n\\t\\t\\t&lt;div class=\"wpl-likebox\"&gt;\\n\\t\\t\\t&lt;div id=\"comment-like\" class=\"comment-likes &lt;%- css_state %&gt;\"&gt;\\n\\t\\t\\t\\t&lt;a href=\"#\" class=\"comment-like-link\" rel=\"nofollow\"&gt;\\n\\t\\t\\t\\t\\t&lt;span&gt;&lt;%- label %&gt;&lt;/span&gt;\\n\\t\\t\\t\\t&lt;/a&gt;\\n\\t\\t\\t&lt;/div&gt;\\n\\t\\t\\t&lt;/div&gt;\\n\\t\\t</script>\\n<script type=\"text/javascript\">\\n\\t//&lt;![CDATA[\\n\\t\\tvar ver;\\n\\n\\t\\tvar params = location.hash.replace( /^#/, '' ).split( '&amp;' );\\n\\t\\tfor ( i = 0; i &lt; params.length; i++ ) {\\n\\t\\t\\tvar pair = params[i].split( '=' );\\n\\t\\t\\tif ( 'ver' == pair[0] ) {\\n\\t\\t\\t\\tver = pair[1];\\n\\t\\t\\t\\tbreak;\\n\\t\\t\\t}\\n\\t\\t}\\n\\n\\t\\t// Bootstrap jQuery\\n\\t\\tvar jqjs = document.createElement('script');\\n\\t\\tjqjs.src = '//s0.wp.com/wp-includes/js/jquery/jquery.js?ver=' + ver;\\n\\t\\tjqjs.type = 'text/javascript';\\n\\t\\tdocument.getElementsByTagName('head')[0].appendChild( jqjs );\\n\\n\\t\\tfunction loadScripts() {\\n\\t\\t\\tif ( ! window.jQuery ) {\\n\\t\\t\\t\\t// jQuery hasn't loaded yet. Try again in 50ms.\\n\\t\\t\\t\\t window.setTimeout( loadScripts, 50 );\\n\\t\\t\\t\\t return;\\n\\t\\t\\t}\\n\\n\\t\\t\\tvar scripts = [\\n\\t\\t\\t\\t'//s0.wp.com/wp-content/js/postmessage.js',\\n\\t\\t\\t\\t'//s0.wp.com/wp-content/js/jed/jed.js',\\n\\t\\t\\t\\t'//s0.wp.com/wp-includes/js/underscore.min.js'\\n\\t\\t\\t];\\n\\n\\t\\t\\tvar head = document.getElementsByTagName('head')[0];\\n\\t\\t\\tfor ( i = 0; i &lt; scripts.length; i++ ) {\\n\\t\\t\\t\\tvar script = document.createElement('script');\\n\\t\\t\\t\\tscript.src = scripts[i] + '?ver=' + ver;\\n\\t\\t\\t\\tscript.type = 'text/javascript';\\n\\t\\t\\t\\thead.appendChild( script );\\n\\t\\t\\t}\\n\\n\\t\\t\\tloadProxyScript();\\n\\t\\t}\\n\\t\\tloadScripts();\\n\\n\\t\\tfunction loadProxyScript() {\\n\\t\\t\\tif ( ! window.pm || ! window.Jed || ! window._ ) {\\n\\t\\t\\t\\t// libs haven't loaded yet. Try again in 50ms.\\n\\t\\t\\t\\t window.setTimeout( loadProxyScript, 50 );\\n\\t\\t\\t\\t return;\\n\\t\\t\\t}\\n\\n\\t\\t\\tvar script = document.createElement('script');\\n\\t\\t\\tscript.src = '//s0.wp.com/wp-content/js/jquery/jquery.wpcom-proxy-request.js?ver=' + ver;\\n\\t\\t\\tscript.type = 'text/javascript';\\n\\t\\t\\tdocument.getElementsByTagName('head')[0].appendChild( script );\\n\\n\\t\\t\\tloadLikesScript();\\n\\t\\t}\\n\\n\\t\\tfunction loadLikesScript() {\\n\\t\\t\\tif ( ! jQuery.wpcom_proxy_request ) {\\n\\t\\t\\t\\t// proxy hasn't loaded yet. Try again in 50ms.\\n\\t\\t\\t\\t window.setTimeout( loadLikesScript, 50 );\\n\\t\\t\\t\\t return;\\n\\t\\t\\t}\\n\\n\\t\\t\\tvar script = document.createElement('script');\\n\\t\\t\\tscript.src = 'likes-rest.js?ver=' + ver;\\n\\t\\t\\tscript.type = 'text/javascript';\\n\\t\\t\\tdocument.getElementsByTagName('head')[0].appendChild( script );\\n\\t\\t}\\n\\t//]]&gt;\\n\\t</script><script src=\"//s0.wp.com/wp-includes/js/jquery/jquery.js?ver=20160429\" type=\"text/javascript\"></script><script src=\"//s0.wp.com/wp-content/js/postmessage.js?ver=20160429\" type=\"text/javascript\"></script><script src=\"//s0.wp.com/wp-content/js/jed/jed.js?ver=20160429\" type=\"text/javascript\"></script><script src=\"//s0.wp.com/wp-includes/js/underscore.min.js?ver=20160429\" type=\"text/javascript\"></script></head>\\n<body>\\n</body></html>"
      ]
     },
     "execution_count": 25,
     "metadata": {},
     "output_type": "execute_result"
    }
   ],
   "source": [
    "soup"
   ]
  },
  {
   "cell_type": "code",
   "execution_count": 70,
   "metadata": {
    "collapsed": false
   },
   "outputs": [
    {
     "name": "stdout",
     "output_type": "stream",
     "text": [
      "hurray\n"
     ]
    }
   ],
   "source": [
    "url = 'https://textnook.wordpress.com/2014/08/11/top-6-tips-to-get-attuned-to-campus-life/'\n",
    "\n",
    "link=urllib2.urlopen(url)\n",
    "\n",
    "soup= bs4.BeautifulSoup(link,from_encoding=\"utf-8\")\n",
    "\n",
    "comments = soup.find_all('div',{'class':'comment-content'})\n",
    "if soup.find_all('div',{'class':'comment-content'}) == []:\n",
    "    print 'hurray'"
   ]
  },
  {
   "cell_type": "code",
   "execution_count": 69,
   "metadata": {
    "collapsed": false
   },
   "outputs": [
    {
     "name": "stdout",
     "output_type": "stream",
     "text": [
      "hurray\n"
     ]
    }
   ],
   "source": []
  },
  {
   "cell_type": "code",
   "execution_count": 63,
   "metadata": {
    "collapsed": false
   },
   "outputs": [
    {
     "name": "stdout",
     "output_type": "stream",
     "text": [
      "Great  website for students\n",
      "very useful for students.\n"
     ]
    }
   ],
   "source": [
    "for i in range(len(comments)):\n",
    "    print comments[i].getText().strip('\\n')\n",
    "post_comments.append(map(str,(comments[i].getText().strip('\\n') for i in range(len(comments)))))    "
   ]
  },
  {
   "cell_type": "code",
   "execution_count": 65,
   "metadata": {
    "collapsed": false
   },
   "outputs": [
    {
     "data": {
      "text/plain": [
       "['Great  website for students', 'very useful for students.']"
      ]
     },
     "execution_count": 65,
     "metadata": {},
     "output_type": "execute_result"
    }
   ],
   "source": [
    "post_comments[0]"
   ]
  },
  {
   "cell_type": "code",
   "execution_count": null,
   "metadata": {
    "collapsed": true
   },
   "outputs": [],
   "source": []
  }
 ],
 "metadata": {
  "kernelspec": {
   "display_name": "Python 2",
   "language": "python",
   "name": "python2"
  },
  "language_info": {
   "codemirror_mode": {
    "name": "ipython",
    "version": 2
   },
   "file_extension": ".py",
   "mimetype": "text/x-python",
   "name": "python",
   "nbconvert_exporter": "python",
   "pygments_lexer": "ipython2",
   "version": "2.7.11"
  }
 },
 "nbformat": 4,
 "nbformat_minor": 0
}
