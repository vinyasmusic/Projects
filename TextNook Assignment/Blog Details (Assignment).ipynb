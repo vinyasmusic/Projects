{
 "cells": [
  {
   "cell_type": "markdown",
   "metadata": {},
   "source": [
    "Fetch Title, Publish date, Likes and Comments for a blog.\n",
    "\n",
    "1. Get all links for the blog posts\n",
    "2. Get titles \n",
    "3. Get author\n",
    "4. Get publishing date and time\n",
    "5. Get num of likes and shares\n",
    "6. Get num of comments on each post\n",
    "7. Get contents of comments\n",
    "8. Store all the above in a data frame (Using pandas ?)\n"
   ]
  },
  {
   "cell_type": "code",
   "execution_count": 1,
   "metadata": {
    "collapsed": false
   },
   "outputs": [],
   "source": [
    "import requests\n",
    "import bs4 \n",
    "import urllib2\n",
    "import pandas as pd\n",
    "import warnings\n",
    "warnings.filterwarnings('ignore')"
   ]
  },
  {
   "cell_type": "code",
   "execution_count": 2,
   "metadata": {
    "collapsed": true
   },
   "outputs": [],
   "source": [
    "blog=requests.get(\"https://textnook.wordpress.com/\")\n",
    "\n",
    "\n",
    "blog_bs4 = bs4.BeautifulSoup(blog.text)"
   ]
  },
  {
   "cell_type": "code",
   "execution_count": 260,
   "metadata": {
    "collapsed": false
   },
   "outputs": [
    {
     "name": "stdout",
     "output_type": "stream",
     "text": [
      "Menu\n",
      "TextNook\n",
      "Post navigation\n",
      "The Flyover May Fall, Kolkata Won’t\n",
      "CHENNAI STANDS TOGETHER !!\n",
      "How to prepare just before an interview\n",
      "5 Benefits of Volunteering in College\n",
      "How to know you are overstressed in college?\n",
      "Best telephone interview tips\n",
      "What to do if you cannot sleep before an exam?\n",
      "Group Discussion Do’s and Don’ts\n",
      "What’s the best approach to exams?\n",
      "How to write a good CV\n",
      "Post navigation\n",
      "Archives\n",
      "Categories\n",
      "Follow Blog via Email\n"
     ]
    }
   ],
   "source": [
    "titles=blog_bs4.select('h1')\n",
    "\n",
    "for i in range(len(titles)):\n",
    "    if titles[i].get('rel')!=None:\n",
    "        if 'bookmark' in titles[i].get('rel'):\n",
    "            print titles[i].getText('rel')\n",
    "    else:\n",
    "        print titles[i].getText('h1')"
   ]
  },
  {
   "cell_type": "code",
   "execution_count": null,
   "metadata": {
    "collapsed": true
   },
   "outputs": [],
   "source": [
    "#How to get only the titles for a blog under H1?"
   ]
  },
  {
   "cell_type": "code",
   "execution_count": 266,
   "metadata": {
    "collapsed": false
   },
   "outputs": [
    {
     "name": "stdout",
     "output_type": "stream",
     "text": [
      "The Flyover May Fall, Kolkata Won’t\n",
      "CHENNAI STANDS TOGETHER !!\n",
      "How to prepare just before an interview\n",
      "5 Benefits of Volunteering in College\n",
      "How to know you are overstressed in college?\n",
      "Best telephone interview tips\n",
      "What to do if you cannot sleep before an exam?\n",
      "Group Discussion Do’s and Don’ts\n",
      "What’s the best approach to exams?\n",
      "How to write a good CV\n"
     ]
    }
   ],
   "source": [
    "link=urllib2.urlopen('https://textnook.wordpress.com/')\n",
    "\n",
    "soup= bs4.BeautifulSoup(link,from_encoding=\"utf-8\")\n",
    "\n",
    "blog_titles=soup.findAll('h1',class_='entry-title')\n",
    "\n",
    "titles_list=[]\n",
    "for i in range(len(blog_titles)):\n",
    "    titles_list.append(blog_titles[i].getText('bookmark'))\n",
    "\n",
    "for i in range(len(titles_list)):\n",
    "    print titles_list[i]"
   ]
  },
  {
   "cell_type": "code",
   "execution_count": 268,
   "metadata": {
    "collapsed": true
   },
   "outputs": [],
   "source": [
    "#How to get all info of a page at once and avoid multiple loops ?\n",
    "\n",
    "#How to get all pages in a blog ?"
   ]
  },
  {
   "cell_type": "code",
   "execution_count": 2,
   "metadata": {
    "collapsed": false
   },
   "outputs": [],
   "source": [
    "url='https://textnook.wordpress.com/page/'\n",
    "page_count=1\n",
    "links=[]\n",
    "while True:\n",
    "    \n",
    "    \n",
    "    try:\n",
    "        #Check if link is valid\n",
    "        urllib2.urlopen(url+str(page_count))\n",
    "           \n",
    "    except Exception:\n",
    "        #If link is invalid break the loop and decrease page count as the current page doesnt exist\n",
    "        page_count-=1\n",
    "        break\n",
    "       \n",
    "    links.append(url+str(page_count))    #Add the links to a list \n",
    "    page_count+=1  #Increase page count\n",
    "    "
   ]
  },
  {
   "cell_type": "code",
   "execution_count": 3,
   "metadata": {
    "collapsed": false
   },
   "outputs": [],
   "source": [
    "blog_titles=[]\n",
    "for i in range(page_count):\n",
    "    link=urllib2.urlopen(links[i])\n",
    "\n",
    "    soup= bs4.BeautifulSoup(link,from_encoding=\"utf-8\")\n",
    "\n",
    "    blog_titles.append(soup.findAll('h1',class_='entry-title'))\n",
    "    \n",
    "blog_titles=[l for subl in blog_titles for l in subl ]\n"
   ]
  },
  {
   "cell_type": "code",
   "execution_count": 12,
   "metadata": {
    "collapsed": false
   },
   "outputs": [
    {
     "data": {
      "text/plain": [
       "'https://textnook.wordpress.com/2016/04/01/the-flyover-may-fall-kolkata-wont/'"
      ]
     },
     "execution_count": 12,
     "metadata": {},
     "output_type": "execute_result"
    }
   ],
   "source": [
    "blog_titles[0].find('a').get('href')"
   ]
  },
  {
   "cell_type": "code",
   "execution_count": 29,
   "metadata": {
    "collapsed": false
   },
   "outputs": [
    {
     "name": "stderr",
     "output_type": "stream",
     "text": [
      "Exception AttributeError: \"'Service' object has no attribute 'process'\" in <bound method Service.__del__ of <selenium.webdriver.chrome.service.Service object at 0x000000000BA52A58>> ignored\n"
     ]
    }
   ],
   "source": [
    "titles=[]\n",
    "post_date=[]\n",
    "post_author=[]\n",
    "post_category=[]\n",
    "post_likes=[]\n",
    "post_comments=[]\n",
    "for i in range(len(blog_titles)):\n",
    "    titles.append(blog_titles[i].getText())                                         #Store the post title in a list\n",
    "    link=requests.get(blog_titles[i].find('a').get('href'))\n",
    "    soup= bs4.BeautifulSoup(link.text,from_encoding=\"utf-8\")\n",
    "    post_date.append( soup.find('time').getText())                                  #Store post date in a list\n",
    "    post_author.append(soup.find('span',class_='author vcard').getText())           #Store author name in a list\n",
    "    post_category.append(soup.find('span',class_='cats-links').find('a').getText()) #Store category in a list\n",
    "    "
   ]
  },
  {
   "cell_type": "code",
   "execution_count": 47,
   "metadata": {
    "collapsed": false
   },
   "outputs": [
    {
     "data": {
      "text/plain": [
       "[<iframe id=\"likes-master\" name=\"likes-master\" scrolling=\"no\" src=\"https://widgets.wp.com/likes/master.html?ver=20160429#ver=20160429\" style=\"display:none;\"></iframe>]"
      ]
     },
     "execution_count": 47,
     "metadata": {},
     "output_type": "execute_result"
    }
   ],
   "source": [
    "link=urllib2.urlopen(blog_titles[0].find('a').get('href'))\n",
    "soup= bs4.BeautifulSoup(link)\n",
    "#soup.find('span',class_='author vcard').find('') getText()\n",
    "#soup.find('span',class_='cats-links').find('a').getText()\n",
    "soup.findAll('iframe',{'id':\"likes-master\"})\n"
   ]
  },
  {
   "cell_type": "code",
   "execution_count": 1,
   "metadata": {
    "collapsed": true
   },
   "outputs": [],
   "source": [
    "#Working till here"
   ]
  },
  {
   "cell_type": "code",
   "execution_count": 44,
   "metadata": {
    "collapsed": false
   },
   "outputs": [
    {
     "name": "stdout",
     "output_type": "stream",
     "text": [
      "\n",
      "\n"
     ]
    }
   ],
   "source": [
    "\n",
    "from selenium import webdriver  \n",
    "from selenium.common.exceptions import NoSuchElementException  \n",
    "from selenium.webdriver.common.keys import Keys\n",
    "import time\n",
    "from selenium.webdriver.support import expected_conditions as EC\n",
    "link=webdriver.Chrome(executable_path=\"C:\\Anaconda2\\selenium\\webdriver\\chromedriver.exe\")\n",
    "link.implicitly_wait(20)\n",
    "link.get(blog_titles[0].find('a').get('href'))\n",
    "#time.sleep(10)\n",
    "link_source=link.page_source\n",
    "#WebDriverWait(link, timeout=10).until(link.find_element_by_tag_name(\"iframe\"))\n",
    "#link.get_attribute('innerHTML')\n",
    "#elems=WebDriverWait(link, timeout=10).until(EC.presence_of_element_located((By.ID, \"iframe\")))\n",
    "elems = link.find_elements_by_xpath(\"//iframe\")\n",
    "#elems2=link.find_element_by_id(\"span\")\n",
    "#soup = bs4.BeautifulSoup(link_source,\"html.parser\")\n",
    "#soup.findAll('div',attrs={'class': 'wpl-button like'})\n",
    "for e in elems:\n",
    "    print e.get_attribute('innerHTML')\n",
    "\n",
    "link.quit()"
   ]
  }
 ],
 "metadata": {
  "kernelspec": {
   "display_name": "Python 2",
   "language": "python",
   "name": "python2"
  },
  "language_info": {
   "codemirror_mode": {
    "name": "ipython",
    "version": 2
   },
   "file_extension": ".py",
   "mimetype": "text/x-python",
   "name": "python",
   "nbconvert_exporter": "python",
   "pygments_lexer": "ipython2",
   "version": "2.7.11"
  }
 },
 "nbformat": 4,
 "nbformat_minor": 0
}
