{
 "cells": [
  {
   "cell_type": "markdown",
   "metadata": {},
   "source": [
    "Fetch Title, Publish date, Likes and Comments for a blog.\n",
    "\n",
    "1. Get all links for the blog posts\n",
    "2. Get titles \n",
    "3. Get author\n",
    "4. Get publishing date \n",
    "5. Get num of likes and shares\n",
    "6. Get num of comments on each post\n",
    "7. Get contents of comments\n",
    "8. Store all the above in a data frame (Using pandas ?)\n"
   ]
  },
  {
   "cell_type": "code",
   "execution_count": 1,
   "metadata": {
    "collapsed": false
   },
   "outputs": [],
   "source": [
    "import requests\n",
    "import bs4 \n",
    "import urllib2\n",
    "import pandas as pd\n",
    "import warnings\n",
    "warnings.filterwarnings('ignore')"
   ]
  },
  {
   "cell_type": "code",
   "execution_count": 2,
   "metadata": {
    "collapsed": true
   },
   "outputs": [],
   "source": [
    "blog=requests.get(\"https://textnook.wordpress.com/\")\n",
    "\n",
    "\n",
    "blog_bs4 = bs4.BeautifulSoup(blog.text)"
   ]
  },
  {
   "cell_type": "code",
   "execution_count": 260,
   "metadata": {
    "collapsed": false
   },
   "outputs": [
    {
     "name": "stdout",
     "output_type": "stream",
     "text": [
      "Menu\n",
      "TextNook\n",
      "Post navigation\n",
      "The Flyover May Fall, Kolkata Won’t\n",
      "CHENNAI STANDS TOGETHER !!\n",
      "How to prepare just before an interview\n",
      "5 Benefits of Volunteering in College\n",
      "How to know you are overstressed in college?\n",
      "Best telephone interview tips\n",
      "What to do if you cannot sleep before an exam?\n",
      "Group Discussion Do’s and Don’ts\n",
      "What’s the best approach to exams?\n",
      "How to write a good CV\n",
      "Post navigation\n",
      "Archives\n",
      "Categories\n",
      "Follow Blog via Email\n"
     ]
    }
   ],
   "source": [
    "titles=blog_bs4.select('h1')\n",
    "\n",
    "for i in range(len(titles)):\n",
    "    if titles[i].get('rel')!=None:\n",
    "        if 'bookmark' in titles[i].get('rel'):\n",
    "            print titles[i].getText('rel')\n",
    "    else:\n",
    "        print titles[i].getText('h1')"
   ]
  },
  {
   "cell_type": "code",
   "execution_count": null,
   "metadata": {
    "collapsed": true
   },
   "outputs": [],
   "source": [
    "#How to get only the titles for a blog under H1?"
   ]
  },
  {
   "cell_type": "code",
   "execution_count": 266,
   "metadata": {
    "collapsed": false
   },
   "outputs": [
    {
     "name": "stdout",
     "output_type": "stream",
     "text": [
      "The Flyover May Fall, Kolkata Won’t\n",
      "CHENNAI STANDS TOGETHER !!\n",
      "How to prepare just before an interview\n",
      "5 Benefits of Volunteering in College\n",
      "How to know you are overstressed in college?\n",
      "Best telephone interview tips\n",
      "What to do if you cannot sleep before an exam?\n",
      "Group Discussion Do’s and Don’ts\n",
      "What’s the best approach to exams?\n",
      "How to write a good CV\n"
     ]
    }
   ],
   "source": [
    "link=urllib2.urlopen('https://textnook.wordpress.com/')\n",
    "\n",
    "soup= bs4.BeautifulSoup(link,from_encoding=\"utf-8\")\n",
    "\n",
    "blog_titles=soup.findAll('h1',class_='entry-title')\n",
    "\n",
    "titles_list=[]\n",
    "for i in range(len(blog_titles)):\n",
    "    titles_list.append(blog_titles[i].getText('bookmark'))\n",
    "\n",
    "for i in range(len(titles_list)):\n",
    "    print titles_list[i]"
   ]
  },
  {
   "cell_type": "code",
   "execution_count": 268,
   "metadata": {
    "collapsed": true
   },
   "outputs": [],
   "source": [
    "#How to get all info of a page at once and avoid multiple loops ?\n",
    "\n",
    "#How to get all pages in a blog ?"
   ]
  },
  {
   "cell_type": "code",
   "execution_count": 2,
   "metadata": {
    "collapsed": false
   },
   "outputs": [],
   "source": [
    "url='https://textnook.wordpress.com/page/'\n",
    "page_count=1\n",
    "links=[]\n",
    "while True:\n",
    "    \n",
    "    \n",
    "    try:\n",
    "        #Check if link is valid\n",
    "        urllib2.urlopen(url+str(page_count))\n",
    "           \n",
    "    except Exception:\n",
    "        #If link is invalid break the loop and decrease page count as the current page doesnt exist\n",
    "        page_count-=1\n",
    "        break\n",
    "       \n",
    "    links.append(url+str(page_count))    #Add the links to a list \n",
    "    page_count+=1                        #Increase page count\n",
    "    "
   ]
  },
  {
   "cell_type": "code",
   "execution_count": 3,
   "metadata": {
    "collapsed": false
   },
   "outputs": [],
   "source": [
    "blog_titles=[]\n",
    "for i in range(page_count):\n",
    "    link=urllib2.urlopen(links[i])\n",
    "\n",
    "    soup= bs4.BeautifulSoup(link,from_encoding=\"utf-8\")\n",
    "\n",
    "    blog_titles.append(soup.findAll('h1',class_='entry-title'))\n",
    "    \n",
    "blog_titles=[l for subl in blog_titles for l in subl ]\n"
   ]
  },
  {
   "cell_type": "code",
   "execution_count": 4,
   "metadata": {
    "collapsed": false
   },
   "outputs": [
    {
     "data": {
      "text/plain": [
       "'https://textnook.wordpress.com/2016/04/01/the-flyover-may-fall-kolkata-wont/'"
      ]
     },
     "execution_count": 4,
     "metadata": {},
     "output_type": "execute_result"
    }
   ],
   "source": [
    "blog_titles[0].find('a').get('href') #Check if proper links are appended to list or not"
   ]
  },
  {
   "cell_type": "code",
   "execution_count": 29,
   "metadata": {
    "collapsed": false
   },
   "outputs": [
    {
     "name": "stderr",
     "output_type": "stream",
     "text": [
      "Exception AttributeError: \"'Service' object has no attribute 'process'\" in <bound method Service.__del__ of <selenium.webdriver.chrome.service.Service object at 0x000000000BA52A58>> ignored\n"
     ]
    }
   ],
   "source": [
    "titles=[]\n",
    "post_date=[]\n",
    "post_author=[]\n",
    "post_category=[]\n",
    "post_likes=[]\n",
    "post_comments=[]\n",
    "for i in range(len(blog_titles)):\n",
    "    titles.append(blog_titles[i].getText())                                         #Store the post title in a list\n",
    "    link=requests.get(blog_titles[i].find('a').get('href'))\n",
    "    soup= bs4.BeautifulSoup(link.text,from_encoding=\"utf-8\")\n",
    "    post_date.append( soup.find('time').getText())                                  #Store post date in a list\n",
    "    post_author.append(soup.find('span',class_='author vcard').getText())           #Store author name in a list\n",
    "    post_category.append(soup.find('span',class_='cats-links').find('a').getText()) #Store category in a list\n",
    "    "
   ]
  },
  {
   "cell_type": "code",
   "execution_count": 47,
   "metadata": {
    "collapsed": false
   },
   "outputs": [
    {
     "data": {
      "text/plain": [
       "[<iframe id=\"likes-master\" name=\"likes-master\" scrolling=\"no\" src=\"https://widgets.wp.com/likes/master.html?ver=20160429#ver=20160429\" style=\"display:none;\"></iframe>]"
      ]
     },
     "execution_count": 47,
     "metadata": {},
     "output_type": "execute_result"
    }
   ],
   "source": [
    "link=urllib2.urlopen(blog_titles[0].find('a').get('href'))\n",
    "soup= bs4.BeautifulSoup(link)\n",
    "\n",
    "soup.findAll('iframe',{'id':\"likes-master\"})\n"
   ]
  },
  {
   "cell_type": "code",
   "execution_count": 1,
   "metadata": {
    "collapsed": true
   },
   "outputs": [],
   "source": [
    "#Working till here"
   ]
  },
  {
   "cell_type": "code",
   "execution_count": 29,
   "metadata": {
    "collapsed": false
   },
   "outputs": [
    {
     "name": "stdout",
     "output_type": "stream",
     "text": [
      "NO\n"
     ]
    }
   ],
   "source": [
    "\n",
    "from selenium import webdriver  \n",
    "from selenium.webdriver.common.by import By\n",
    "from selenium.common.exceptions import NoSuchElementException  \n",
    "from selenium.webdriver.common.keys import Keys\n",
    "import time\n",
    "from selenium.webdriver.support import expected_conditions as EC\n",
    "from selenium.webdriver.support.ui import WebDriverWait\n",
    "#link=webdriver.Chrome(executable_path=\"C:\\Anaconda2\\selenium\\webdriver\\chromedriver.exe\")\n",
    "link=webdriver.Chrome()\n",
    "link.get('https://textnook.wordpress.com/2016/04/01/the-flyover-may-fall-kolkata-wont/')\n",
    "\n",
    "#time.sleep(10)\n",
    "link_source=link.page_source\n",
    "#WebDriverWait(link, timeout=10).until(link.find_element_by_tag_name(\"iframe\"))\n",
    "#link.get_attribute('innerHTML')\n",
    "#elems=WebDriverWait(link, timeout=30).until(link.find_element_by_css_selector('#jp-post-flair > div.sharedaddy.sd-sharing-enabled > div > div > ul > li.share-facebook > a > span'))\n",
    "\n",
    "try:\n",
    "    #iframe1 = link.find_elements_by_xpath('//*[@id=\"like-post-wrapper-62787491-198-5766d4382c07d\"]/iframe')\n",
    "    #link.switch_to_frame(link.find_elements_by_tag_name('iframe'))\n",
    "    elems=WebDriverWait(link,30).until(EC.visibility_of_element_located(\n",
    "            By.XPATH,'//*[@id=\"like-post-wrapper-62787491-198-5766d4382c07d\"]/iframe'))\n",
    "    \n",
    "    \n",
    "\n",
    "    elems3=link.find_elements_by_tag_name('span')\n",
    "except:\n",
    "    print \"Not found\"\n",
    "#elems = link.find_element_by_xpath('//*[@id=\"target\"]')\n",
    "#elems4=link.find_element_by_class_name('sd-content wpl-likebox')\n",
    "#elems6=link.find_element_by_css_selector('#target > div > div.wpl-count.sd-like-count')\n",
    "#elems5=link.find_element_by_css_selector('#target > div > div.wpl-count.sd-like-count > span')\n",
    "\n",
    "#link.switch_to.default_content()\n",
    "\n",
    "#elems2=link.find_element_by_id(\"span\")\n",
    "#soup = bs4.BeautifulSoup(link_source,\"html.parser\")\n",
    "#soup.findAll('div',attrs={'class': 'wpl-button like'})\n",
    "\n",
    "finally:\n",
    "    link.quit()"
   ]
  },
  {
   "cell_type": "code",
   "execution_count": 47,
   "metadata": {
    "collapsed": false
   },
   "outputs": [
    {
     "data": {
      "text/plain": [
       "u'<!DOCTYPE html><html xmlns=\"http://www.w3.org/1999/xhtml\" lang=\"en\"><head><script async=\"\" src=\"https://graph.facebook.com/?callback=WPCOMSharing.update_facebook_count&amp;ids=https%3A%2F%2Ftextnook.wordpress.com%2F2016%2F04%2F01%2Fthe-flyover-may-fall-kolkata-wont%2F&amp;_=1466351633215\"></script>\\n<meta charset=\"UTF-8\" />\\n<meta name=\"viewport\" content=\"width=device-width\" />\\n<title>The Flyover May Fall, Kolkata Won\\u2019t | TextNook</title>\\n<link rel=\"profile\" href=\"http://gmpg.org/xfn/11\" />\\n<link rel=\"pingback\" href=\"https://textnook.wordpress.com/xmlrpc.php\" />\\n<!--[if lt IE 9]>\\n<script src=\"https://s0.wp.com/wp-content/themes/pub/book-lite/js/html5.js\" type=\"text/javascript\"></script>\\n<![endif]-->\\n\\n\\n\\t<style type=\"text/css\">\\n\\t\\t .widget-area {\\n\\t\\t \\twidth: 49%;\\n\\t\\t }\\n\\t</style>\\n<link rel=\"alternate\" type=\"application/rss+xml\" title=\"TextNook \\xbb Feed\" href=\"https://textnook.wordpress.com/feed/\" />\\n<link rel=\"alternate\" type=\"application/rss+xml\" title=\"TextNook \\xbb Comments Feed\" href=\"https://textnook.wordpress.com/comments/feed/\" />\\n<link rel=\"alternate\" type=\"application/rss+xml\" title=\"TextNook \\xbb The Flyover May Fall, Kolkata\\xa0Won\\u2019t Comments Feed\" href=\"https://textnook.wordpress.com/2016/04/01/the-flyover-may-fall-kolkata-wont/feed/\" />\\n\\t<script async=\"\" src=\"https://sb.scorecardresearch.com/beacon.js\"></script><script type=\"text/javascript\">\\n\\t\\t/* &lt;![CDATA[ */\\n\\t\\tfunction addLoadEvent(func) {\\n\\t\\t\\tvar oldonload = window.onload;\\n\\t\\t\\tif (typeof window.onload != \\'function\\') {\\n\\t\\t\\t\\twindow.onload = func;\\n\\t\\t\\t} else {\\n\\t\\t\\t\\twindow.onload = function () {\\n\\t\\t\\t\\t\\toldonload();\\n\\t\\t\\t\\t\\tfunc();\\n\\t\\t\\t\\t}\\n\\t\\t\\t}\\n\\t\\t}\\n\\t\\t/* ]]&gt; */\\n\\t</script>\\n\\t<link rel=\"stylesheet\" id=\"all-css-0\" href=\"https://s1.wp.com/_static/??-eJx9kd1uwyAMhV9ozKpSZVfTnoVQlzg1MYodRX37wrK/rhs3xsc6H7YBtuyCzIazQVpd5jXSrLDlIMlpIsbrL/UcVJ/gb4zpggoTWvbh4t7Vg31gid+AxIgnWc2dhVk22OgU0Vo9gixY6il7q46EJ/LImIqthaXcf1I1HcuAzVX2nYchL6jqSky0JmdjafTI7WXI6wCDSN3cENSujK0WmGSiPe42glmMilO/khYfURxL8EYy3wl3Zk9LC12wfkNJIxTXD9mCsqjtV4OOfqnwx9miVAJ5LrNFuRf/veJ4hMgyeK6Gt/R6OPbdoX/p+m66Aeg3AaE=\" type=\"text/css\" media=\"all\" />\\n<script type=\"text/javascript\">\\n/* &lt;![CDATA[ */\\nvar LoggedOutFollow = {\"invalid_email\":\"Your subscription did not succeed, please try again with a valid email address.\"};\\n/* ]]&gt; */\\n</script>\\n<script type=\"text/javascript\" src=\"https://s0.wp.com/_static/??-eJyFzl0KwjAMAOAL2dWJDl/Es+wnK6ltU5t0RU9vBX0Qh0IgIfkSoktUGEaXJ2Bta1wzpNsrNZY3+hdQHk3qBRqP4Y1HCgJBntbTgA5UZki9qb16aKYVF4nFA3NFK9PPlzAsCOUvsyCxHy8qAeP96+rgyKjossHAutYGJsqiZnKOii44GZC6c/andt+122O76w72AUgkb68=\"></script>\\n<link rel=\"stylesheet\" id=\"all-css-0\" href=\"https://s1.wp.com/wp-content/mu-plugins/highlander-comments/style.css?m=1377793621h\" type=\"text/css\" media=\"all\" />\\n<!--[if lt IE 8]>\\n<link rel=\\'stylesheet\\' id=\\'highlander-comments-ie7-css\\'  href=\\'https://s1.wp.com/wp-content/mu-plugins/highlander-comments/style-ie7.css?m=1351637563h&#038;ver=20110606\\' type=\\'text/css\\' media=\\'all\\' />\\n<![endif]-->\\n<link rel=\"EditURI\" type=\"application/rsd+xml\" title=\"RSD\" href=\"https://textnook.wordpress.com/xmlrpc.php?rsd\" />\\n<link rel=\"wlwmanifest\" type=\"application/wlwmanifest+xml\" href=\"https://s1.wp.com/wp-includes/wlwmanifest.xml\" /> \\n<link rel=\"prev\" title=\"CHENNAI STANDS TOGETHER\\xa0!!\" href=\"https://textnook.wordpress.com/2015/12/08/chennai-stands-together-2/\" />\\n<meta name=\"generator\" content=\"WordPress.com\" />\\n<link rel=\"canonical\" href=\"https://textnook.wordpress.com/2016/04/01/the-flyover-may-fall-kolkata-wont/\" />\\n<link rel=\"shortlink\" href=\"http://wp.me/p4frTt-3c\" />\\n<link rel=\"alternate\" type=\"application/json+oembed\" href=\"https://public-api.wordpress.com/oembed/1.0/?format=json&amp;url=https%3A%2F%2Ftextnook.wordpress.com%2F2016%2F04%2F01%2Fthe-flyover-may-fall-kolkata-wont%2F&amp;for=wpcom-auto-discovery\" /><link rel=\"alternate\" type=\"application/xml+oembed\" href=\"https://public-api.wordpress.com/oembed/1.0/?format=xml&amp;url=https%3A%2F%2Ftextnook.wordpress.com%2F2016%2F04%2F01%2Fthe-flyover-may-fall-kolkata-wont%2F&amp;for=wpcom-auto-discovery\" />\\n<!-- Jetpack Open Graph Tags -->\\n<meta property=\"og:type\" content=\"article\" />\\n<meta property=\"og:title\" content=\"The Flyover May Fall, Kolkata Won\\u2019t\" />\\n<meta property=\"og:url\" content=\"https://textnook.wordpress.com/2016/04/01/the-flyover-may-fall-kolkata-wont/\" />\\n<meta property=\"og:description\" content=\"Too late, alas! the song To remedy the wrong; \\u2014 The rooms are taken from us, swept and garnished for their fate. But these tear-besprinkled pages Shall attest to future ages That we cried aga\\u2026\" />\\n<meta property=\"article:published_time\" content=\"2016-04-01T06:03:04+00:00\" />\\n<meta property=\"article:modified_time\" content=\"2016-04-01T06:14:35+00:00\" />\\n<meta property=\"og:site_name\" content=\"TextNook\" />\\n<meta property=\"og:image\" content=\"https://textnook.files.wordpress.com/2016/04/kolkata.jpg\" />\\n<meta property=\"og:image:width\" content=\"600\" />\\n<meta property=\"og:image:height\" content=\"333\" />\\n<meta property=\"og:locale\" content=\"en_US\" />\\n<meta name=\"twitter:site\" content=\"@wordpressdotcom\" />\\n<meta name=\"twitter:image\" content=\"https://textnook.files.wordpress.com/2016/04/kolkata.jpg?w=240\" />\\n<meta name=\"twitter:card\" content=\"summary\" />\\n<meta property=\"fb:app_id\" content=\"249643311490\" />\\n<meta property=\"article:publisher\" content=\"https://www.facebook.com/WordPresscom\" />\\n<link rel=\"shortcut icon\" type=\"image/x-icon\" href=\"https://s2.wp.com/i/favicon.ico\" sizes=\"16x16 24x24 32x32 48x48\" />\\n<link rel=\"icon\" type=\"image/x-icon\" href=\"https://s2.wp.com/i/favicon.ico\" sizes=\"16x16 24x24 32x32 48x48\" />\\n<link rel=\"apple-touch-icon-precomposed\" href=\"https://s0.wp.com/i/webclip.png\" />\\n<link rel=\"openid.server\" href=\"https://textnook.wordpress.com/?openidserver=1\" />\\n<link rel=\"openid.delegate\" href=\"https://textnook.wordpress.com/\" />\\n<link rel=\"search\" type=\"application/opensearchdescription+xml\" href=\"https://textnook.wordpress.com/osd.xml\" title=\"TextNook\" />\\n<link rel=\"search\" type=\"application/opensearchdescription+xml\" href=\"https://s1.wp.com/opensearch.xml\" title=\"WordPress.com\" />\\n<meta name=\"theme-color\" content=\"#bbd1a8\" />\\n\\n\\t<style type=\"text/css\">\\n\\n\\t\\n\\t\\t#masthead {\\n\\t\\t\\tbackground: url( https://textnook.files.wordpress.com/2015/11/cropped-wordpress-banner.png ) center 0 no-repeat;\\n\\t\\t\\tmargin-top: 0;\\n\\t\\t\\tpadding-bottom: 0;\\n\\t\\t\\tmax-width: 100%;\\n\\t\\t\\theight: 500px;\\n\\t\\t\\tposition: relative;\\n\\t\\t\\tbackground-attachment: fixed;\\n\\t\\t}\\n\\t\\t.admin-bar #masthead {\\n\\t\\t\\tbackground-position: center 28px;\\n\\t\\t}\\n\\t\\thgroup {\\n\\t\\t\\tposition: absolute;\\n\\t\\t\\tbottom: 50px;\\n\\t\\t\\twidth: 100%;\\n\\t\\t}\\n\\t\\t.site-title {\\n\\t\\t\\tmax-width: 750px;\\n\\t\\t\\tmargin: auto;\\n\\t\\t}\\n\\t\\th2.site-description {\\n\\t\\t\\tmax-width: 550px;\\n\\t\\t}\\n\\t\\t.site-title,\\n\\t\\t.site-description {\\n\\t\\t\\tcolor: #fff\\t\\t}\\n\\t\\t#page {\\n\\t\\t\\tmax-width: 100%;\\n\\t\\t}\\n\\t\\t#main,\\n\\t\\t#colophon {\\n\\t\\t\\tmax-width: 750px;\\n\\t\\t\\tmargin: 0 auto;\\n\\t\\t}\\n\\t\\t.main-navigation {\\n\\t\\t\\tbackground: rgba(0,0,0,.7);\\n\\t\\t}\\n\\t\\t.main-navigation ul a {\\n\\t\\t\\tcolor: #ccc;\\n\\t\\t}\\n\\t\\t.main-navigation ul li:after {\\n\\t\\t\\tcolor: #ccc;\\n\\t\\t}\\n\\t\\t.main-navigation li.current_page_item a,\\n\\t\\t.main-navigation li.current-menu-item a {\\n\\t\\t\\tcolor: #888;\\n\\t\\t}\\n\\t\\t.main-navigation ul li:first-child {\\n\\t\\t\\tbackground: none;\\n\\t\\t}\\n\\n\\t\\t\\t</style>\\n\\t\\t<style type=\"text/css\">.recentcomments a{display:inline !important;padding:0 !important;margin:0 !important;}</style>\\n\\t\\t\\t\\t<style type=\"text/css\">\\n\\t\\t\\t.recentcomments a {\\n\\t\\t\\t\\tdisplay: inline !important;\\n\\t\\t\\t\\tpadding: 0 !important;\\n\\t\\t\\t\\tmargin: 0 !important;\\n\\t\\t\\t}\\n\\n\\t\\t\\ttable.recentcommentsavatartop img.avatar, table.recentcommentsavatarend img.avatar {\\n\\t\\t\\t\\tborder: 0px;\\n\\t\\t\\t\\tmargin: 0;\\n\\t\\t\\t}\\n\\n\\t\\t\\ttable.recentcommentsavatartop a, table.recentcommentsavatarend a {\\n\\t\\t\\t\\tborder: 0px !important;\\n\\t\\t\\t\\tbackground-color: transparent !important;\\n\\t\\t\\t}\\n\\n\\t\\t\\ttd.recentcommentsavatarend, td.recentcommentsavatartop {\\n\\t\\t\\t\\tpadding: 0px 0px 1px 0px;\\n\\t\\t\\t\\tmargin: 0px;\\n\\t\\t\\t}\\n\\n\\t\\t\\ttd.recentcommentstextend {\\n\\t\\t\\t\\tborder: none !important;\\n\\t\\t\\t\\tpadding: 0px 0px 2px 10px;\\n\\t\\t\\t}\\n\\n\\t\\t\\t.rtl td.recentcommentstextend {\\n\\t\\t\\t\\tpadding: 0px 10px 2px 0px;\\n\\t\\t\\t}\\n\\n\\t\\t\\ttd.recentcommentstexttop {\\n\\t\\t\\t\\tborder: none;\\n\\t\\t\\t\\tpadding: 0px 0px 0px 10px;\\n\\t\\t\\t}\\n\\n\\t\\t\\t.rtl td.recentcommentstexttop {\\n\\t\\t\\t\\tpadding: 0px 10px 0px 0px;\\n\\t\\t\\t}\\n\\t\\t</style>\\n\\t\\t<meta name=\"application-name\" content=\"TextNook\" /><meta name=\"msapplication-window\" content=\"width=device-width;height=device-height\" /><meta name=\"msapplication-tooltip\" content=\"India\\'s only Exclusive Marketplace for Textbooks\" /><meta name=\"msapplication-task\" content=\"name=Subscribe;action-uri=https://textnook.wordpress.com/feed/;icon-uri=https://s2.wp.com/i/favicon.ico\" /><meta name=\"msapplication-task\" content=\"name=Sign up for a free blog;action-uri=http://wordpress.com/signup/;icon-uri=https://s2.wp.com/i/favicon.ico\" /><meta name=\"msapplication-task\" content=\"name=WordPress.com Support;action-uri=http://support.wordpress.com/;icon-uri=https://s2.wp.com/i/favicon.ico\" /><meta name=\"msapplication-task\" content=\"name=WordPress.com Forums;action-uri=http://forums.wordpress.com/;icon-uri=https://s2.wp.com/i/favicon.ico\" /><meta name=\"title\" content=\"The Flyover May Fall, Kolkata\\xa0Won\\u2019t | TextNook on WordPress.com\" />\\n<meta name=\"description\" content=\"Too late, alas! the song To remedy the wrong; -- The rooms are taken from us, swept and garnished for their fate. But these tear-besprinkled pages Shall attest to future ages That we cried against the crime of it -- too late, alas! too late! Lets think of an usual Thursday afternoon. Perhaps you were\\u2026\" />\\n\\t<style type=\"text/css\">\\n\\t\\t\\t.site-title,\\n\\t\\t.site-description {\\n\\t\\t\\tposition: absolute !important;\\n\\t\\t\\tclip: rect(1px 1px 1px 1px); /* IE6, IE7 */\\n\\t\\t\\tclip: rect(1px, 1px, 1px, 1px);\\n\\t\\t}\\n\\t\\n\\t</style>\\n\\t<style type=\"text/css\" id=\"custom-background-css\">\\nbody.custom-background { background-color: #bbd1a8; }\\n</style>\\n<link rel=\"amphtml\" href=\"https://textnook.wordpress.com/2016/04/01/the-flyover-may-fall-kolkata-wont/amp/\" /><style type=\"text/css\" id=\"syntaxhighlighteranchor\"></style>\\n<link rel=\"stylesheet\" type=\"text/css\" id=\"gravatar-card-css\" href=\"https://0.gravatar.com/css/hovercard.css?ver=201624y\" /><link rel=\"stylesheet\" type=\"text/css\" id=\"gravatar-card-services-css\" href=\"https://0.gravatar.com/css/services.css?ver=201624y\" /></head>\\n\\n<body class=\"single single-post postid-198 single-format-standard custom-background mp6 customizer-styles-applied group-blog custom-header highlander-enabled highlander-light\">\\n<div id=\"page\" class=\"hfeed site\">\\n\\t\\t<header id=\"masthead\" class=\"site-header\" role=\"banner\">\\n\\t\\t<nav role=\"navigation\" class=\"site-navigation main-navigation\">\\n\\t\\t\\t<h1 class=\"assistive-text\">Menu</h1>\\n\\t\\t\\t<div class=\"assistive-text skip-link\"><a href=\"#content\" title=\"Skip to content\">Skip to content</a></div>\\n\\n\\t\\t\\t<div class=\"menu-menu-container\"><ul id=\"menu-menu\" class=\"menu\"><li id=\"menu-item-18\" class=\"menu-item menu-item-type-custom menu-item-object-custom menu-item-18\"><a href=\"http://www.textnook.com\">TextNook</a></li>\\n<li id=\"menu-item-13\" class=\"menu-item menu-item-type-post_type menu-item-object-page menu-item-13\"><a href=\"https://textnook.wordpress.com/about/\">Blog Home</a></li>\\n</ul></div>\\t\\t</nav><!-- .site-navigation .main-navigation -->\\n\\t\\t<hgroup>\\n\\t\\t\\t<h1 class=\"site-title\"><a href=\"https://textnook.wordpress.com/\" title=\"TextNook\" rel=\"home\">TextNook</a></h1>\\n\\t\\t\\t<h2 class=\"site-description\">India\\'s only Exclusive Marketplace for Textbooks</h2>\\n\\t\\t</hgroup>\\n\\t</header><!-- #masthead .site-header -->\\n\\n\\t<div id=\"main\" class=\"site-main\">\\n\\n\\t\\t<div id=\"primary\" class=\"content-area\">\\n\\t\\t\\t<div id=\"content\" class=\"site-content\" role=\"main\">\\n\\n\\t\\t\\t\\n\\t\\t\\t\\t\\t<nav role=\"navigation\" id=\"nav-above\" class=\"site-navigation post-navigation\">\\n\\t\\t<h1 class=\"assistive-text\">Post navigation</h1>\\n\\n\\t\\n\\t\\t<div class=\"nav-previous\"><a href=\"https://textnook.wordpress.com/2015/12/08/chennai-stands-together-2/\" rel=\"prev\"><span class=\"meta-nav\">\\u2190</span> CHENNAI STANDS TOGETHER\\xa0!!</a></div>\\t\\t\\n\\t\\n\\t</nav><!-- #nav-above -->\\n\\t\\n\\t\\t\\t\\t\\n<article id=\"post-198\" class=\"post-198 post type-post status-publish format-standard hentry category-uncategorized\">\\n\\t<header class=\"entry-header\">\\n\\t\\t<h1 class=\"entry-title\">The Flyover May Fall, Kolkata\\xa0Won\\u2019t</h1>\\n\\t\\t\\t\\t<div class=\"entry-meta\">\\n\\t\\t\\tPosted on <a href=\"https://textnook.wordpress.com/2016/04/01/the-flyover-may-fall-kolkata-wont/\" title=\"6:03 am\" rel=\"bookmark\"><time class=\"entry-date\" datetime=\"2016-04-01T06:03:04+00:00\" pubdate=\"\">April 1, 2016</time></a><span class=\"byline\"> by <span class=\"author vcard\"><a class=\"url fn n\" href=\"https://textnook.wordpress.com/author/subhajittextnook/\" title=\"View all posts by Subhajit Mukherjee\" rel=\"author\">Subhajit Mukherjee</a></span></span><span class=\"cats-links\"> under <a href=\"https://textnook.wordpress.com/category/uncategorized/\" rel=\"category tag\">Uncategorized</a></span>\\t\\t</div><!-- .entry-meta -->\\n\\t\\t\\t</header><!-- .entry-header -->\\n\\n\\t<div class=\"entry-content\">\\n\\t\\t<pre> <img class=\"alignnone wp-image-217 size-full\" src=\"https://textnook.files.wordpress.com/2016/04/kolkata.jpg?w=750\" alt=\"kolkata\" />\\n\\n\\n Too late, alas! the song\\n To remedy the wrong; --\\n The rooms are taken from us, swept and\\n garnished for their fate.\\n But these tear-besprinkled pages\\n Shall attest to future ages\\n That we cried against the crime of it --\\n too late, alas! too late!</pre>\\n<p>Lets think of an usual Thursday afternoon. Perhaps you were returning vacation using this road which connected Howrah Station to your destination. Perhaps you were coming home to surprise your parents using this particular road which is under an unfinished flyover. Perhaps you were taking your lunch break in your favorite joint under this unfinished flyover.Perhaps you were doing your wedding shopping under that unfinished flyover. Perhaps you had a favorite spot where you met your best friend for a smoke under the shade of this very, unfinished flyover. Perhaps you were a minimum wage worker looking for some shade under the unfinished flyover.</p>\\n<p>And\\u2026it collapses. I can\\u2019t imagine the horror. There is very little I can do other than question the safety of the people in this city which is slowly being transformed into a concrete jungle. I have nothing against it changing into a concrete jungle\\u2026.but what if the concrete jungle decides to turn on the animals in it?</p>\\n<p>Amidst the terror and the destruction, I saw the spirit of this city too. Unknown nameless, faceless heroes saving lives and putting theirs on the line. While the people in power are busy playing the blame game, I urge everyone to go to a nearby hospital, donate blood if you\\u2019re eligible to be a donor.</p>\\n<p>Kolkata Police helpline \\u2013 033 2214 3024<br />\\nGovernment helpline \\u2013 1070</p>\\n<p>Blood donation numbers \\u2013<br />\\n<strong>9007011884</strong><br />\\n<strong>9051541204 (Maniktala blood bank)</strong><br />\\n<strong>9830083467</strong></p>\\n<div id=\"jp-post-flair\" class=\"sharedaddy sd-like-enabled sd-sharing-enabled\"><div class=\"sharedaddy sd-sharing-enabled\"><div class=\"robots-nocontent sd-block sd-social sd-social-icon-text sd-sharing\"><h3 class=\"sd-title\">Share this:</h3><div class=\"sd-content\"><ul><li class=\"share-twitter\"><a rel=\"nofollow\" data-shared=\"sharing-twitter-198\" class=\"share-twitter sd-button share-icon\" href=\"https://textnook.wordpress.com/2016/04/01/the-flyover-may-fall-kolkata-wont/?share=twitter&amp;nb=1\" target=\"_blank\" title=\"Click to share on Twitter\"><span>Twitter</span></a></li><li class=\"share-facebook\"><a rel=\"nofollow\" data-shared=\"sharing-facebook-198\" class=\"share-facebook sd-button share-icon\" href=\"https://textnook.wordpress.com/2016/04/01/the-flyover-may-fall-kolkata-wont/?share=facebook&amp;nb=1\" target=\"_blank\" title=\"Share on Facebook\"><span>Facebook</span></a></li><li class=\"share-google-plus-1\"><a rel=\"nofollow\" data-shared=\"sharing-google-198\" class=\"share-google-plus-1 sd-button share-icon\" href=\"https://textnook.wordpress.com/2016/04/01/the-flyover-may-fall-kolkata-wont/?share=google-plus-1&amp;nb=1\" target=\"_blank\" title=\"Click to share on Google+\"><span>Google</span></a></li><li class=\"share-end\"></li></ul></div></div></div><div class=\"sharedaddy sd-block sd-like jetpack-likes-widget-wrapper jetpack-likes-widget-unloaded\" id=\"like-post-wrapper-62787491-198-5766c00f8d831\" data-src=\"//widgets.wp.com/likes/#blog_id=62787491&amp;post_id=198&amp;origin=textnook.wordpress.com&amp;obj_id=62787491-198-5766c00f8d831\" data-name=\"like-post-frame-62787491-198-5766c00f8d831\"><h3 class=\"sd-title\">Like this:</h3><div class=\"likes-widget-placeholder post-likes-widget-placeholder\" style=\"height: 55px;\"><span class=\"button\"><span>Like</span></span> <span class=\"loading\">Loading...</span></div><span class=\"sd-text-color\"></span><a class=\"sd-link-color\"></a></div></div>\\t\\t\\t</div><!-- .entry-content -->\\n\\n\\t<footer class=\"entry-meta\">\\n\\t\\tBookmark the <a href=\"https://textnook.wordpress.com/2016/04/01/the-flyover-may-fall-kolkata-wont/\" title=\"Permalink to The Flyover May Fall, Kolkata\\xa0Won\\u2019t\" rel=\"bookmark\">permalink</a>.\\n\\t\\t\\t</footer><!-- .entry-meta -->\\n</article><!-- #post-198 -->\\n\\n\\t\\t\\t\\t\\t<nav role=\"navigation\" id=\"nav-below\" class=\"site-navigation post-navigation\">\\n\\t\\t<h1 class=\"assistive-text\">Post navigation</h1>\\n\\n\\t\\n\\t\\t<div class=\"nav-previous\"><a href=\"https://textnook.wordpress.com/2015/12/08/chennai-stands-together-2/\" rel=\"prev\"><span class=\"meta-nav\">\\u2190</span> CHENNAI STANDS TOGETHER\\xa0!!</a></div>\\t\\t\\n\\t\\n\\t</nav><!-- #nav-below -->\\n\\t\\n\\t\\t\\t\\t\\n\\n\\t<div id=\"comments\" class=\"comments-area\">\\n\\n\\t\\n\\t\\n\\t\\n\\t\\t\\t\\t\\t<div id=\"respond\" class=\"comment-respond js\">\\n\\t\\t\\t<h3 id=\"reply-title\" class=\"comment-reply-title\">Leave a Reply <small><a rel=\"nofollow\" id=\"cancel-comment-reply-link\" href=\"/2016/04/01/the-flyover-may-fall-kolkata-wont/#respond\" style=\"display:none;\">Cancel reply</a></small></h3>\\t\\t\\t\\t<form action=\"https://textnook.wordpress.com/wp-comments-post.php\" method=\"post\" id=\"commentform\" class=\"comment-form\">\\n\\t\\t\\t\\t\\t<input type=\"hidden\" id=\"highlander_comment_nonce\" name=\"highlander_comment_nonce\" value=\"de9edd55ca\" /><input type=\"hidden\" name=\"_wp_http_referer\" value=\"/2016/04/01/the-flyover-may-fall-kolkata-wont/\" />\\n<input type=\"hidden\" name=\"hc_post_as\" id=\"hc_post_as\" value=\"guest\" />\\n\\n<div class=\"comment-form-field comment-textarea\">\\n\\t\\n\\t<div id=\"comment-form-comment\"><textarea tabindex=\"-1\" style=\"position: absolute; top: -999px; left: 0px; right: auto; bottom: auto; border: 0px; padding: 0px; box-sizing: content-box; word-wrap: break-word; overflow: hidden; transition: none; height: 0px !important; min-height: 0px !important; font-family: Arial, Helvetica, Tahoma, Verdana, sans-serif; font-size: 14px; font-weight: 400; font-style: normal; letter-spacing: 0px; text-transform: none; text-decoration: none; word-spacing: 0px; text-indent: 0px; line-height: 25.2px; width: 728px;\" class=\"autosizejs \"></textarea><textarea id=\"comment\" name=\"comment\" title=\"Enter your comment here...\" placeholder=\"Enter your comment here...\" style=\"height: 45px; overflow: hidden; word-wrap: break-word; resize: none;\"></textarea></div>\\n</div>\\n\\n<div id=\"comment-form-identity\" style=\"display: none;\">\\n\\n\\t<div id=\"comment-form-nascar\">\\n\\t\\t<p>Fill in your details below or click an icon to log in:</p>\\n\\t\\t<ul>\\n\\t\\t\\t<li class=\"selected\" style=\"display:none;\">\\n\\t\\t\\t\\t<a href=\"#comment-form-guest\" id=\"postas-guest\" title=\"Guest\">\\n\\t\\t\\t\\t\\t<span></span>\\n\\t\\t\\t\\t</a>\\n\\t\\t\\t</li>\\n\\t\\t\\t<li>\\n\\t\\t\\t\\t<a href=\"#comment-form-load-service:WordPress.com\" id=\"postas-wordpress\" title=\"WordPress.com\">\\n\\t\\t\\t\\t\\t<span></span>\\n\\t\\t\\t\\t</a>\\n\\t\\t\\t</li>\\n\\t\\t\\t<li>\\n\\t\\t\\t\\t<a href=\"#comment-form-load-service:Twitter\" id=\"postas-twitter\" title=\"Twitter\">\\n\\t\\t\\t\\t\\t<span></span>\\n\\t\\t\\t\\t</a>\\n\\t\\t\\t</li>\\n\\t\\t\\t<li>\\n\\t\\t\\t\\t<a href=\"#comment-form-load-service:Facebook\" id=\"postas-facebook\" title=\"Facebook\">\\n\\t\\t\\t\\t\\t<span></span>\\n\\t\\t\\t\\t</a>\\n\\t\\t\\t</li>\\n\\t\\t\\t<li>\\n\\t\\t\\t<iframe id=\"googleplus-sign-in\" name=\"googleplus-sign-in\" src=\"https://public-api.wordpress.com/connect/?googleplus-sign-in=https%3A%2F%2Ftextnook.wordpress.com\" width=\"24\" height=\"24\" scrolling=\"no\" allowtransparency=\"true\" seamless=\"seamless\" frameborder=\"0\"></iframe>\\n\\t\\t\\t</li>\\n\\t\\t</ul>\\n\\t</div>\\n\\n\\t<div id=\"comment-form-guest\" class=\"comment-form-service selected\">\\n\\t\\t<div class=\"comment-form-padder\">\\n\\t\\t\\t<div class=\"comment-form-avatar\">\\n<a href=\"https://gravatar.com/site/signup/\" target=\"_blank\">\\t\\t\\t\\t<img src=\"https://1.gravatar.com/avatar/ad516503a11cd5ca435acc9bb6523536?s=25&amp;d=identicon&amp;forcedefault=y&amp;r=G\" alt=\"Gravatar\" width=\"25\" class=\"no-grav\" />\\n</a>\\t\\t\\t</div>\\n\\n\\t\\t\\t\\t<div class=\"comment-form-fields\">\\n\\t\\t\\t\\t<div class=\"comment-form-field comment-form-email\">\\n\\t\\t\\t\\t\\t<label for=\"email\">Email <span class=\"required\">(required)</span> <span class=\"nopublish\">(Address never made public)</span></label>\\n\\t\\t\\t\\t\\t<div class=\"comment-form-input\"><input id=\"email\" name=\"email\" type=\"email\" value=\"\" /></div>\\n\\t\\t\\t\\t</div>\\n\\t\\t\\t\\t<div class=\"comment-form-field comment-form-author\">\\n\\t\\t\\t\\t\\t<label for=\"author\">Name <span class=\"required\">(required)</span></label>\\n\\t\\t\\t\\t\\t<div class=\"comment-form-input\"><input id=\"author\" name=\"author\" type=\"text\" value=\"\" /></div>\\n\\t\\t\\t\\t</div>\\n\\t\\t\\t\\t<div class=\"comment-form-field comment-form-url\">\\n\\t\\t\\t\\t\\t<label for=\"url\">Website</label>\\n\\t\\t\\t\\t\\t<div class=\"comment-form-input\"><input id=\"url\" name=\"url\" type=\"text\" value=\"\" /></div>\\n\\t\\t\\t\\t</div>\\n\\t\\t\\t</div>\\n\\t\\n\\t\\t</div>\\n\\t</div>\\n\\n\\t<div id=\"comment-form-wordpress\" class=\"comment-form-service\">\\n\\t\\t<div class=\"comment-form-padder\">\\n\\t\\t\\t<div class=\"comment-form-avatar\">\\n\\t\\t\\t\\t<img src=\"https://1.gravatar.com/avatar/ad516503a11cd5ca435acc9bb6523536?s=25&amp;d=identicon&amp;forcedefault=y&amp;r=G\" alt=\"WordPress.com Logo\" width=\"25\" class=\"no-grav\" />\\n\\t\\t\\t</div>\\n\\n\\t\\t\\t\\t<div class=\"comment-form-fields\">\\n\\t\\t\\t\\t<input type=\"hidden\" name=\"wp_avatar\" id=\"wordpress-avatar\" class=\"comment-meta-wordpress\" value=\"\" />\\n\\t\\t\\t\\t<input type=\"hidden\" name=\"wp_user_id\" id=\"wordpress-user_id\" class=\"comment-meta-wordpress\" value=\"\" />\\n\\t\\t\\t\\t<input type=\"hidden\" name=\"wp_access_token\" id=\"wordpress-access_token\" class=\"comment-meta-wordpress\" value=\"\" />\\n\\t\\t\\t\\t<p class=\"comment-form-posting-as pa-wordpress\"><strong></strong> You are commenting using your WordPress.com account. <span class=\"comment-form-log-out\">(\\xa0<a href=\"javascript:HighlanderComments.doExternalLogout( \\'wordpress\\' );\">Log\\xa0Out</a>\\xa0/\\xa0<a href=\"#\" onclick=\"javascript:HighlanderComments.switchAccount();return false;\">Change</a>\\xa0)</span></p>\\n\\t\\t\\t</div>\\n\\t\\n\\t\\t</div>\\n\\t</div>\\n\\n\\t<div id=\"comment-form-twitter\" class=\"comment-form-service\">\\n\\t\\t<div class=\"comment-form-padder\">\\n\\t\\t\\t<div class=\"comment-form-avatar\">\\n\\t\\t\\t\\t<img src=\"https://1.gravatar.com/avatar/ad516503a11cd5ca435acc9bb6523536?s=25&amp;d=identicon&amp;forcedefault=y&amp;r=G\" alt=\"Twitter picture\" width=\"25\" class=\"no-grav\" />\\n\\t\\t\\t</div>\\n\\n\\t\\t\\t\\t<div class=\"comment-form-fields\">\\n\\t\\t\\t\\t<input type=\"hidden\" name=\"twitter_avatar\" id=\"twitter-avatar\" class=\"comment-meta-twitter\" value=\"\" />\\n\\t\\t\\t\\t<input type=\"hidden\" name=\"twitter_user_id\" id=\"twitter-user_id\" class=\"comment-meta-twitter\" value=\"\" />\\n\\t\\t\\t\\t<input type=\"hidden\" name=\"twitter_access_token\" id=\"twitter-access_token\" class=\"comment-meta-twitter\" value=\"\" />\\n\\t\\t\\t\\t<p class=\"comment-form-posting-as pa-twitter\"><strong></strong> You are commenting using your Twitter account. <span class=\"comment-form-log-out\">(\\xa0<a href=\"javascript:HighlanderComments.doExternalLogout( \\'twitter\\' );\">Log\\xa0Out</a>\\xa0/\\xa0<a href=\"#\" onclick=\"javascript:HighlanderComments.switchAccount();return false;\">Change</a>\\xa0)</span></p>\\n\\t\\t\\t</div>\\n\\t\\n\\t\\t</div>\\n\\t</div>\\n\\n\\t<div id=\"comment-form-facebook\" class=\"comment-form-service\">\\n\\t\\t<div class=\"comment-form-padder\">\\n\\t\\t\\t<div class=\"comment-form-avatar\">\\n\\t\\t\\t\\t<img src=\"https://1.gravatar.com/avatar/ad516503a11cd5ca435acc9bb6523536?s=25&amp;d=identicon&amp;forcedefault=y&amp;r=G\" alt=\"Facebook photo\" width=\"25\" class=\"no-grav\" />\\n\\t\\t\\t</div>\\n\\n\\t\\t\\t\\t<div class=\"comment-form-fields\">\\n\\t\\t\\t\\t<input type=\"hidden\" name=\"fb_avatar\" id=\"facebook-avatar\" class=\"comment-meta-facebook\" value=\"\" />\\n\\t\\t\\t\\t<input type=\"hidden\" name=\"fb_user_id\" id=\"facebook-user_id\" class=\"comment-meta-facebook\" value=\"\" />\\n\\t\\t\\t\\t<input type=\"hidden\" name=\"fb_access_token\" id=\"facebook-access_token\" class=\"comment-meta-facebook\" value=\"\" />\\n\\t\\t\\t\\t<p class=\"comment-form-posting-as pa-facebook\"><strong></strong> You are commenting using your Facebook account. <span class=\"comment-form-log-out\">(\\xa0<a href=\"javascript:HighlanderComments.doExternalLogout( \\'facebook\\' );\">Log\\xa0Out</a>\\xa0/\\xa0<a href=\"#\" onclick=\"javascript:HighlanderComments.switchAccount();return false;\">Change</a>\\xa0)</span></p>\\n\\t\\t\\t</div>\\n\\t\\n\\t\\t</div>\\n\\t</div>\\n\\n\\t<div id=\"comment-form-googleplus\" class=\"comment-form-service\">\\n\\t\\t<div class=\"comment-form-padder\">\\n\\t\\t\\t<div class=\"comment-form-avatar\">\\n\\t\\t\\t\\t<img src=\"https://1.gravatar.com/avatar/ad516503a11cd5ca435acc9bb6523536?s=25&amp;d=identicon&amp;forcedefault=y&amp;r=G\" alt=\"Google+ photo\" width=\"25\" class=\"no-grav\" />\\n\\t\\t\\t</div>\\n\\n\\t\\t\\t\\t<div class=\"comment-form-fields\">\\n\\t\\t\\t\\t<input type=\"hidden\" name=\"googleplus_avatar\" id=\"googleplus-avatar\" class=\"comment-meta-googleplus\" value=\"\" />\\n\\t\\t\\t\\t<input type=\"hidden\" name=\"googleplus_user_id\" id=\"googleplus-user_id\" class=\"comment-meta-googleplus\" value=\"\" />\\n\\t\\t\\t\\t<input type=\"hidden\" name=\"googleplus_access_token\" id=\"googleplus-access_token\" class=\"comment-meta-googleplus\" value=\"\" />\\n\\t\\t\\t\\t<p class=\"comment-form-posting-as pa-googleplus\"><strong></strong> You are commenting using your Google+ account. <span class=\"comment-form-log-out\">(\\xa0<a href=\"javascript:HighlanderComments.doExternalLogout( \\'googleplus\\' );\">Log\\xa0Out</a>\\xa0/\\xa0<a href=\"#\" onclick=\"javascript:HighlanderComments.switchAccount();return false;\">Change</a>\\xa0)</span></p>\\n\\t\\t\\t</div>\\n\\t\\n\\t\\t</div>\\n\\t</div>\\n\\n\\n\\t<div id=\"comment-form-load-service\" class=\"comment-form-service\">\\n\\t\\t<div class=\"comment-form-posting-as-cancel\"><a href=\"javascript:HighlanderComments.cancelExternalWindow();\">Cancel</a></div>\\n\\t\\t<p>Connecting to %s</p>\\n\\t</div>\\n\\n</div>\\n\\n<script type=\"text/javascript\">\\nvar highlander_expando_javascript = function(){\\n\\tvar input = document.createElement( \\'input\\' ),\\n\\t    comment = jQuery( \\'#comment\\' );\\n\\n\\tif ( \\'placeholder\\' in input ) {\\n\\t\\tcomment.attr( \\'placeholder\\', jQuery( \\'.comment-textarea label\\' ).remove().text() );\\n\\t}\\n\\n\\t// Expando Mode: start small, then auto-resize on first click + text length\\n\\tjQuery( \\'#comment-form-identity\\' ).hide();\\n\\tjQuery( \\'#comment-form-subscribe\\' ).hide();\\n\\tjQuery( \\'#commentform .form-submit\\' ).hide();\\n\\n\\tcomment.css( { \\'height\\':\\'10px\\' } ).one( \\'focus\\', function() {\\n\\t\\tvar timer = setInterval( HighlanderComments.resizeCallback, 10 )\\n\\t\\tjQuery( this ).animate( { \\'height\\': HighlanderComments.initialHeight } ).delay( 100 ).queue( function(n) { clearInterval( timer ); HighlanderComments.resizeCallback(); n(); } );\\n\\t\\tjQuery( \\'#comment-form-identity\\' ).slideDown();\\n\\t\\tjQuery( \\'#comment-form-subscribe\\' ).slideDown();\\n\\t\\tjQuery( \\'#commentform .form-submit\\' ).slideDown();\\n\\t});\\n}\\njQuery(document).ready( highlander_expando_javascript );\\n</script>\\n\\n<div id=\"comment-form-subscribe\" style=\"display: none;\">\\n\\t<p class=\"comment-subscription-form\"><input type=\"checkbox\" name=\"subscribe\" id=\"subscribe\" value=\"subscribe\" style=\"width: auto;\" /> <label class=\"subscribe-label\" id=\"subscribe-label\" for=\"subscribe\" style=\"display: inline;\">Notify me of new comments via email.</label></p></div>\\n\\n\\n\\n\\n<p class=\"form-submit\" style=\"display: none;\"><input name=\"submit\" type=\"submit\" id=\"comment-submit\" class=\"submit\" value=\"Post Comment\" /> <input type=\"hidden\" name=\"comment_post_ID\" value=\"198\" id=\"comment_post_ID\" />\\n<input type=\"hidden\" name=\"comment_parent\" id=\"comment_parent\" value=\"0\" />\\n</p><p style=\"display: none;\"><input type=\"hidden\" id=\"akismet_comment_nonce\" name=\"akismet_comment_nonce\" value=\"23e6d85d43\" /></p>\\n<input type=\"hidden\" name=\"genseq\" value=\"1466351631\" />\\n<p style=\"display: none;\"></p>\\t\\t\\t\\t<input type=\"hidden\" id=\"ak_js\" name=\"ak_js\" value=\"1466351635425\" /></form>\\n\\t\\t\\t\\t\\t</div><!-- #respond -->\\n\\t\\t<div style=\"clear: both\"></div>\\n</div><!-- #comments .comments-area -->\\n\\n\\t\\t\\t\\n\\t\\t\\t</div><!-- #content .site-content -->\\n\\t\\t</div><!-- #primary .content-area -->\\n\\n<div id=\"secondary\">\\n\\t\\t<div id=\"first\" class=\"widget-area\" role=\"complementary\">\\n\\t\\t<aside id=\"search-2\" class=\"widget widget_search\">\\t<form method=\"get\" id=\"searchform\" action=\"https://textnook.wordpress.com/\" role=\"search\">\\n\\t\\t<label for=\"s\" class=\"assistive-text\">Search</label>\\n\\t\\t<input type=\"text\" class=\"field\" name=\"s\" value=\"\" id=\"s\" placeholder=\"Search \\u2026\" />\\n\\t\\t<input type=\"submit\" class=\"submit\" name=\"submit\" id=\"searchsubmit\" value=\"Search\" />\\n\\t</form>\\n</aside><aside id=\"recent-comments-2\" class=\"widget widget_recent_comments\"><h1 class=\"widget-title\">Recent Comments</h1>\\t\\t\\t\\t<table class=\"recentcommentsavatar\" cellspacing=\"0\" cellpadding=\"0\" border=\"0\">\\n\\t\\t\\t\\t\\t<tbody><tr><td title=\"Bhavani Akumalla\" class=\"recentcommentsavatartop\" style=\"height:48px; width:48px;\"><img alt=\"\" src=\"https://1.gravatar.com/avatar/109d6d0d833085d63f069dfb9413163d?s=48&amp;d=identicon&amp;r=G\" class=\"avatar avatar-48 grav-hashed grav-hijack\" height=\"48\" width=\"48\" id=\"grav-109d6d0d833085d63f069dfb9413163d-0\" /></td><td class=\"recentcommentstexttop\" style=\"\">Bhavani Akumalla on <a href=\"https://textnook.wordpress.com/2014/03/08/why-renting-is-beneficial-over-buying-textbooks/comment-page-1/#comment-6\">Why Renting Is Beneficial Over\\u2026</a></td></tr><tr><td title=\"Harika Rayarapu\" class=\"recentcommentsavatarend\" style=\"height:48px; width:48px;\"><a href=\"https://www.facebook.com/harika.rayarapu\" rel=\"nofollow\"><img alt=\"\" src=\"https://i2.wp.com/graph.facebook.com/100003081581301/picture?q=type%3Dlarge%26_md5%3D5280cb5e15a3295962606a974baab519&amp;resize=48%2C48\" class=\"avatar avatar-48\" height=\"48\" width=\"48\" /></a></td><td class=\"recentcommentstextend\" style=\"\"><a href=\"https://www.facebook.com/harika.rayarapu\" rel=\"nofollow\">Harika Rayarapu</a> on <a href=\"https://textnook.wordpress.com/2014/03/08/why-renting-is-beneficial-over-buying-textbooks/comment-page-1/#comment-5\">Why Renting Is Beneficial Over\\u2026</a></td></tr>\\t\\t\\t\\t</tbody></table>\\n\\t\\t\\t\\t</aside><aside id=\"archives-2\" class=\"widget widget_archive\"><h1 class=\"widget-title\">Archives</h1>\\t\\t<ul>\\n\\t\\t\\t<li><a href=\"https://textnook.wordpress.com/2016/04/\">April 2016</a>\\xa0(1)</li>\\n\\t<li><a href=\"https://textnook.wordpress.com/2015/12/\">December 2015</a>\\xa0(1)</li>\\n\\t<li><a href=\"https://textnook.wordpress.com/2014/11/\">November 2014</a>\\xa0(3)</li>\\n\\t<li><a href=\"https://textnook.wordpress.com/2014/10/\">October 2014</a>\\xa0(8)</li>\\n\\t<li><a href=\"https://textnook.wordpress.com/2014/09/\">September 2014</a>\\xa0(8)</li>\\n\\t<li><a href=\"https://textnook.wordpress.com/2014/08/\">August 2014</a>\\xa0(6)</li>\\n\\t<li><a href=\"https://textnook.wordpress.com/2014/03/\">March 2014</a>\\xa0(1)</li>\\n\\t\\t</ul>\\n\\t\\t</aside><aside id=\"categories-2\" class=\"widget widget_categories\"><h1 class=\"widget-title\">Categories</h1>\\t\\t<ul>\\n\\t<li class=\"cat-item cat-item-26029\"><a href=\"https://textnook.wordpress.com/category/campus-life/\" title=\"This category contains articles related to campus life and how to get most out of it.\">Campus Life</a> (15)\\n</li>\\n\\t<li class=\"cat-item cat-item-83555\"><a href=\"https://textnook.wordpress.com/category/career-tips/\" title=\"This category contains articles helping students in succeeding their career quests\">Career Tips</a> (7)\\n</li>\\n\\t<li class=\"cat-item cat-item-218057183\"><a href=\"https://textnook.wordpress.com/category/textnook-general/\" title=\"This category contains articles related to TextNook, its various promotions and features \">TextNook-General</a> (4)\\n</li>\\n\\t<li class=\"cat-item cat-item-1\"><a href=\"https://textnook.wordpress.com/category/uncategorized/\">Uncategorized</a> (3)\\n</li>\\n\\t\\t</ul>\\n</aside>\\t</div><!-- #first .widget-area -->\\n\\t\\n\\t\\t<div id=\"second\" class=\"widget-area\" role=\"complementary\">\\n\\t\\t<aside id=\"blog_subscription-3\" class=\"widget widget_blog_subscription\"><h1 class=\"widget-title\"><label for=\"subscribe-field\">Follow Blog via Email</label></h1>\\n\\t\\t\\t\\t<form action=\"https://subscribe.wordpress.com\" method=\"post\" accept-charset=\"utf-8\" id=\"subscribe-blog\">\\n\\t\\t\\t\\t\\t\\t\\t\\t\\t\\t\\t<p>Enter your email address to follow this blog and receive notifications of new posts by email.</p>\\n<p>Join 8 other followers</p>\\n\\t\\t\\t\\t\\t\\t<p><input type=\"text\" name=\"email\" style=\"width: 95%; padding: 1px 2px\" placeholder=\"Enter your email address\" value=\"\" id=\"subscribe-field\" /></p>\\n\\t\\t\\t\\t\\t\\n\\t\\t\\t\\t\\t<p>\\n\\t\\t\\t\\t\\t\\t<input type=\"hidden\" name=\"action\" value=\"subscribe\" />\\n\\t\\t\\t\\t\\t\\t<input type=\"hidden\" name=\"blog_id\" value=\"62787491\" />\\n\\t\\t\\t\\t\\t\\t<input type=\"hidden\" name=\"source\" value=\"https://textnook.wordpress.com/2016/04/01/the-flyover-may-fall-kolkata-wont/\" />\\n\\t\\t\\t\\t\\t\\t<input type=\"hidden\" name=\"sub-type\" value=\"widget\" />\\n\\t\\t\\t\\t\\t\\t<input type=\"hidden\" name=\"redirect_fragment\" value=\"blog_subscription-3\" />\\n\\t\\t\\t\\t\\t\\t<input type=\"hidden\" id=\"_wpnonce\" name=\"_wpnonce\" value=\"32b2204392\" />\\t\\t\\t\\t\\t\\t<input type=\"submit\" value=\"Follow\" />\\n\\t\\t\\t\\t\\t</p>\\n\\t\\t\\t\\t</form>\\n\\t\\t\\t\\n</aside>\\t</div><!-- #second .widget-area -->\\n\\t\\n\\t</div><!-- #supplementary -->\\n\\n\\t</div><!-- #main .site-main -->\\n\\n\\t<footer id=\"colophon\" class=\"site-footer\" role=\"contentinfo\">\\n\\t\\t<div class=\"site-info\">\\n\\t\\t\\t\\t\\t\\t<a href=\"https://wordpress.com/?ref=footer_blog\">Blog at WordPress.com.</a>\\n\\t\\t\\t<span class=\"sep\"> | </span>\\n\\t\\t\\t<a href=\"https://wordpress.com/themes/book-lite/\" title=\"Learn more about this theme\">The Book Lite Theme</a>.\\t\\t</div><!-- .site-info -->\\n\\t</footer><!-- #colophon .site-footer -->\\n</div><!-- #page .hfeed .site -->\\n\\n<!-- wpcom_wp_footer -->\\n<script type=\"text/javascript\" src=\"//0.gravatar.com/js/gprofiles.js?ver=201624y\"></script>\\n<script type=\"text/javascript\">\\n/* &lt;![CDATA[ */\\nvar WPGroHo = {\"my_hash\":\"\"};\\n/* ]]&gt; */\\n</script>\\n<script type=\"text/javascript\" src=\"https://s1.wp.com/wp-content/mu-plugins/gravatar-hovercards/wpgroho.js?m=1380573781h\"></script>\\n\\n\\t<script>\\n\\t\\t//initialize and attach hovercards to all gravatars\\n\\t\\tjQuery( document ).ready( function( $ ) {\\n\\n\\t\\t\\tif (typeof Gravatar === \"undefined\"){\\n\\t\\t\\t\\treturn;\\n\\t\\t\\t}\\n\\n\\t\\t\\tif ( typeof Gravatar.init !== \"function\" ) {\\n\\t\\t\\t\\treturn;\\n\\t\\t\\t}\\t\\t\\t\\n\\n\\t\\t\\tGravatar.profile_cb = function( hash, id ) {\\n\\t\\t\\t\\tWPGroHo.syncProfileData( hash, id );\\n\\t\\t\\t};\\n\\t\\t\\tGravatar.my_hash = WPGroHo.my_hash;\\n\\t\\t\\tGravatar.init( \\'body\\', \\'#wp-admin-bar-my-account\\' );\\n\\t\\t});\\n\\t</script>\\n\\n\\t\\t<div style=\"display:none\">\\n\\t<div class=\"grofile-hash-map-109d6d0d833085d63f069dfb9413163d\">\\n\\t</div>\\n\\t<div class=\"grofile-hash-map-54b386e5141c5b5ff8ae97f6df0b186a\">\\n\\t</div>\\n\\t</div>\\n<script type=\"text/javascript\">\\n/* &lt;![CDATA[ */\\nvar HighlanderComments = {\"loggingInText\":\"Logging In\\\\u2026\",\"submittingText\":\"Posting Comment\\\\u2026\",\"postCommentText\":\"Post Comment\",\"connectingToText\":\"Connecting to %s\",\"commentingAsText\":\"%1$s: You are commenting using your %2$s account.\",\"logoutText\":\"Log Out\",\"loginText\":\"Log In\",\"connectURL\":\"https:\\\\/\\\\/textnook.wordpress.com\\\\/public.api\\\\/connect\\\\/?action=request\",\"logoutURL\":\"https:\\\\/\\\\/textnook.wordpress.com\\\\/wp-login.php?action=logout&amp;_wpnonce=6513f99685\",\"homeURL\":\"https:\\\\/\\\\/textnook.wordpress.com\\\\/\",\"postID\":\"198\",\"gravDefault\":\"identicon\",\"enterACommentError\":\"Please enter a comment\",\"enterEmailError\":\"Please enter your email address here\",\"invalidEmailError\":\"Invalid email address\",\"enterAuthorError\":\"Please enter your name here\",\"gravatarFromEmail\":\"This picture will show whenever you leave a comment. Click to customize it.\",\"logInToExternalAccount\":\"Log in to use details from one of these accounts.\",\"change\":\"Change\",\"changeAccount\":\"Change Account\",\"comment_registration\":\"0\",\"userIsLoggedIn\":\"\",\"isJetpack\":\"0\",\"text_direction\":\"ltr\"};\\n/* ]]&gt; */\\n</script>\\n<script type=\"text/javascript\" src=\"https://s0.wp.com/_static/??/wp-content/js/jquery/jquery.autoresize.js,/wp-content/mu-plugins/highlander-comments/script.js?m=1462457903j\"></script>\\n\\n\\t<div id=\"bit\" class=\"loggedout-follow-normal\">\\n\\t\\t<a class=\"bsub\" href=\"javascript:void(0)\"><span id=\"bsub-text\">Follow</span></a>\\n\\t\\t<div id=\"bitsubscribe\">\\n\\n\\t\\t\\t\\t\\t<h3><label for=\"loggedout-follow-field\">Follow \\u201cTextNook\\u201d</label></h3>\\n\\n\\t\\t\\t<form action=\"https://subscribe.wordpress.com\" method=\"post\" accept-charset=\"utf-8\" id=\"loggedout-follow\">\\n\\t\\t\\t<p>Get every new post delivered to your Inbox.</p>\\n\\n\\t\\t\\t<p id=\"loggedout-follow-error\" style=\"display: none;\"></p>\\n\\n\\t\\t\\t\\n\\t\\t\\t<p><input type=\"email\" name=\"email\" placeholder=\"Enter your email address\" id=\"loggedout-follow-field\" /></p>\\n\\n\\t\\t\\t<input type=\"hidden\" name=\"action\" value=\"subscribe\" />\\n\\t\\t\\t<input type=\"hidden\" name=\"blog_id\" value=\"62787491\" />\\n\\t\\t\\t<input type=\"hidden\" name=\"source\" value=\"https://textnook.wordpress.com/2016/04/01/the-flyover-may-fall-kolkata-wont/\" />\\n\\t\\t\\t<input type=\"hidden\" name=\"sub-type\" value=\"loggedout-follow\" />\\n\\n\\t\\t\\t<input type=\"hidden\" id=\"_wpnonce\" name=\"_wpnonce\" value=\"32b2204392\" /><input type=\"hidden\" name=\"_wp_http_referer\" value=\"/2016/04/01/the-flyover-may-fall-kolkata-wont/\" />\\n\\t\\t\\t<p id=\"bsub-subscribe-button\"><input type=\"submit\" value=\"Sign me up\" /></p>\\n\\t\\t\\t</form>\\n\\t\\t\\t\\t\\t<div id=\"bsub-credit\"><a href=\"https://wordpress.com/?ref=lof\">Build a website with WordPress.com</a></div>\\n\\t\\t</div><!-- #bitsubscribe -->\\n\\t</div><!-- #bit -->\\n\\n\\t<script type=\"text/javascript\">\\n\\t\\twindow.WPCOM_sharing_counts = {\"https:\\\\/\\\\/textnook.wordpress.com\\\\/2016\\\\/04\\\\/01\\\\/the-flyover-may-fall-kolkata-wont\\\\/\":198};\\n\\t</script>\\n\\t\\t<script type=\"text/javascript\">\\n\\t\\t\\tvar windowOpen;\\n\\t\\tjQuery(document).on( \\'ready post-load\\', function(){\\n\\t\\t\\tjQuery( \\'a.share-twitter\\' ).on( \\'click\\', function() {\\n\\t\\t\\t\\tif ( \\'undefined\\' !== typeof windowOpen ){ // If there\\'s another sharing window open, close it.\\n\\t\\t\\t\\t\\twindowOpen.close();\\n\\t\\t\\t\\t}\\n\\t\\t\\t\\twindowOpen = window.open( jQuery(this).attr( \\'href\\' ), \\'wpcomtwitter\\', \\'menubar=1,resizable=1,width=600,height=350\\' );\\n\\t\\t\\t\\treturn false;\\n\\t\\t\\t});\\n\\t\\t});\\n\\t\\t</script>\\n\\t\\t\\t\\t<script type=\"text/javascript\">\\n\\t\\t\\tvar windowOpen;\\n\\t\\tjQuery(document).on( \\'ready post-load\\', function(){\\n\\t\\t\\tjQuery( \\'a.share-facebook\\' ).on( \\'click\\', function() {\\n\\t\\t\\t\\tif ( \\'undefined\\' !== typeof windowOpen ){ // If there\\'s another sharing window open, close it.\\n\\t\\t\\t\\t\\twindowOpen.close();\\n\\t\\t\\t\\t}\\n\\t\\t\\t\\twindowOpen = window.open( jQuery(this).attr( \\'href\\' ), \\'wpcomfacebook\\', \\'menubar=1,resizable=1,width=600,height=400\\' );\\n\\t\\t\\t\\treturn false;\\n\\t\\t\\t});\\n\\t\\t});\\n\\t\\t</script>\\n\\t\\t\\t\\t<script type=\"text/javascript\">\\n\\t\\t\\tvar windowOpen;\\n\\t\\tjQuery(document).on( \\'ready post-load\\', function(){\\n\\t\\t\\tjQuery( \\'a.share-google-plus-1\\' ).on( \\'click\\', function() {\\n\\t\\t\\t\\tif ( \\'undefined\\' !== typeof windowOpen ){ // If there\\'s another sharing window open, close it.\\n\\t\\t\\t\\t\\twindowOpen.close();\\n\\t\\t\\t\\t}\\n\\t\\t\\t\\twindowOpen = window.open( jQuery(this).attr( \\'href\\' ), \\'wpcomgoogle-plus-1\\', \\'menubar=1,resizable=1,width=480,height=550\\' );\\n\\t\\t\\t\\treturn false;\\n\\t\\t\\t});\\n\\t\\t});\\n\\t\\t</script>\\n\\t\\t<script type=\"text/javascript\" src=\"https://s1.wp.com/wp-content/mu-plugins/akismet-3.0/_inc/form.js?m=1404442431h\"></script>\\n<script type=\"text/javascript\">\\n/* &lt;![CDATA[ */\\nvar JetpackEmojiSettings = {\"base_url\":\"https:\\\\/\\\\/s0.wp.com\\\\/wp-content\\\\/mu-plugins\\\\/emoji\\\\/twemoji\\\\/\"};\\n/* ]]&gt; */\\n</script>\\n<script type=\"text/javascript\">\\n/* &lt;![CDATA[ */\\nvar sharing_js_options = {\"lang\":\"en\",\"counts\":\"1\"};\\n/* ]]&gt; */\\n</script>\\n<script type=\"text/javascript\" src=\"https://s2.wp.com/_static/??-eJyNzkESgjAMBdALWTKMim4cz1JKhJQ0rbQVvb11wYy6EFd/8d/PBOagjJeEksBG6PBGBsO9snEDb5XLKnDuSSIwjRjhmjHjoKVjnL5xGtAVEnILrfejYkr4Oh6dZlYOJS8LEsO5K7a0xrtSJTVh4EflSH78gM5bgjR/5Kq3mII2o/pPr6ngY1IX1jRBHPRE0i9ZRmd3qnfNtjnu6/pgn96AhLE=\"></script>\\n<script type=\"text/javascript\">\\n// &lt;![CDATA[\\n(function() {\\ntry{\\n  if ( window.external &amp;&amp;\\'msIsSiteMode\\' in window.external) {\\n    if (window.external.msIsSiteMode()) {\\n      var jl = document.createElement(\\'script\\');\\n      jl.type=\\'text/javascript\\';\\n      jl.async=true;\\n      jl.src=\\'/wp-content/plugins/ie-sitemode/custom-jumplist.php\\';\\n      var s = document.getElementsByTagName(\\'script\\')[0];\\n      s.parentNode.insertBefore(jl, s);\\n    }\\n  }\\n}catch(e){}\\n})();\\n// ]]&gt;\\n</script>\\t\\t<iframe src=\"https://widgets.wp.com/likes/master.html?ver=20160429#ver=20160429\" scrolling=\"no\" id=\"likes-master\" name=\"likes-master\" style=\"display:none;\"></iframe>\\n\\t\\t<div id=\"likes-other-gravatars\"><div class=\"likes-text\"><span>%d</span> bloggers like this:</div><ul class=\"wpl-avatars sd-like-gravatars\"></ul></div>\\n\\t\\t<script>\\n\\t\\t\\tvar _comscore = _comscore || [];\\n\\t\\t\\t_comscore.push({\\n\\t\\t\\t\\tc1: \"2\",\\n\\t\\t\\t\\tc2: \"7518284\"\\n\\t\\t\\t});\\n\\t\\t\\t(function() {\\n\\t\\t\\t\\tvar s = document.createElement(\"script\"),\\n\\t\\t\\t\\t\\tel = document.getElementsByTagName(\"script\")[0];\\n\\t\\t\\t\\ts.async = true;\\n\\t\\t\\t\\ts.src = (document.location.protocol == \"https:\" ? \"https://sb\" : \"http://b\") + \".scorecardresearch.com/beacon.js\";\\n\\t\\t\\t\\tel.parentNode.insertBefore(s, el);\\n\\t\\t\\t})();\\n\\t\\t</script>\\n\\t\\t<noscript>\\n\\t\\t\\t&lt;p class=\"robots-nocontent\"&gt;&lt;img src=\"https://sb.scorecardresearch.com/p?c1=2&amp;c2=7518284&amp;c3=&amp;c4=&amp;c5=&amp;c6=&amp;c15=&amp;cv=2.0&amp;cj=1\" alt=\"\" style=\"display:none;\" width=\"1\" height=\"1\" /&gt;&lt;/p&gt;\\n\\t\\t</noscript><script src=\"//stats.wp.com/w.js?52\" type=\"text/javascript\" async=\"\" defer=\"\"></script>\\n<script type=\"text/javascript\">\\n_tkq = window._tkq || [];\\n_stq = window._stq || [];\\n_tkq.push([\\'storeContext\\', {\\'blog_id\\':\\'62787491\\',\\'blog_tz\\':\\'0\\',\\'user_lang\\':\\'en\\',\\'blog_lang\\':\\'en\\',\\'user_id\\':\\'0\\'}]);\\n_stq.push([\\'view\\', {\\'blog\\':\\'62787491\\',\\'v\\':\\'wpcom\\',\\'tz\\':\\'0\\',\\'user_id\\':\\'0\\',\\'post\\':\\'198\\',\\'subd\\':\\'textnook\\'}]);\\n_stq.push([\\'extra\\', {\\'crypt\\':\\'UE40eW5QN0p8M2Y/RE1TaVhzUzFMbjdWNHpwZGhTayxPSUFCMGRVYVNrSFguN3FwSmQ5RGtNX3VQcj1yVzhiflM1THQtLGFdQ2toOXYlLE0wYVtjOS5JOS1OLitPcGlZM3Y1YjVta0V6eXhUa09kayxPJWU4bmticHR8RkNHOHFQS2R1LmViaFc1cFViVndHMm8sczZYLHpJPy89bEZHTlEtaUNNP0w3ZERMZGVIR1pPVStqZWFfLX4sd11bYT9oOEpxeWVmcTRObTgmJTFZZyZqQVt0bDJbQ013SFBjV344XXQ1cXwsNHhqc0pHeGwlaXQ1bU95LEpkWnZUJjE9Wk4tfkVBSXYrQm9zYXcxcltQdDdmM09+Uj9Pcyw3MVk4NGpNN1JwSENwQ1lscGl1Yj8wV1V6bC9KTiZbQXh0QXhHMl0xRC5JeA==\\'}]);\\n_stq.push([ \\'clickTrackerInit\\', \\'62787491\\', \\'198\\' ]);\\n\\t</script>\\n<noscript>&lt;img src=\"https://pixel.wp.com/b.gif?v=noscript\" style=\"height:0px;width:0px;overflow:hidden\" alt=\"\" /&gt;</noscript>\\n<script>\\nif ( \\'object\\' === typeof wpcom_mobile_user_agent_info ) {\\n\\n\\twpcom_mobile_user_agent_info.init();\\n\\tvar mobileStatsQueryString = \"\";\\n\\t\\n\\tif( false !== wpcom_mobile_user_agent_info.matchedPlatformName )\\n\\t\\tmobileStatsQueryString += \"&amp;x_\" + \\'mobile_platforms\\' + \\'=\\' + wpcom_mobile_user_agent_info.matchedPlatformName;\\n\\t\\n\\tif( false !== wpcom_mobile_user_agent_info.matchedUserAgentName )\\n\\t\\tmobileStatsQueryString += \"&amp;x_\" + \\'mobile_devices\\' + \\'=\\' + wpcom_mobile_user_agent_info.matchedUserAgentName;\\n\\t\\n\\tif( wpcom_mobile_user_agent_info.isIPad() )\\n\\t\\tmobileStatsQueryString += \"&amp;x_\" + \\'ipad_views\\' + \\'=\\' + \\'views\\';\\n\\n\\tif( \"\" != mobileStatsQueryString ) {\\n\\t\\tnew Image().src = document.location.protocol + \\'//pixel.wp.com/g.gif?v=wpcom-no-pv\\' + mobileStatsQueryString + \\'&amp;baba=\\' + Math.random();\\n\\t}\\n\\t\\n}\\n</script>\\n\\n<img src=\"https://pixel.wp.com/g.gif?blog=62787491&amp;v=wpcom&amp;tz=0&amp;user_id=0&amp;post=198&amp;subd=textnook&amp;host=textnook.wordpress.com&amp;ref=&amp;rand=0.20907809662941368\" alt=\":)\" id=\"wpstats\" /></body></html>'"
      ]
     },
     "execution_count": 47,
     "metadata": {},
     "output_type": "execute_result"
    }
   ],
   "source": [
    "link_source"
   ]
  }
 ],
 "metadata": {
  "kernelspec": {
   "display_name": "Python 2",
   "language": "python",
   "name": "python2"
  },
  "language_info": {
   "codemirror_mode": {
    "name": "ipython",
    "version": 2
   },
   "file_extension": ".py",
   "mimetype": "text/x-python",
   "name": "python",
   "nbconvert_exporter": "python",
   "pygments_lexer": "ipython2",
   "version": "2.7.11"
  }
 },
 "nbformat": 4,
 "nbformat_minor": 0
}
