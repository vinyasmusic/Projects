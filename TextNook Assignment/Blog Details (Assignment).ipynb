{
 "cells": [
  {
   "cell_type": "markdown",
   "metadata": {},
   "source": [
    "Fetch Title, Publish date, Likes and Comments for a blog.\n",
    "\n",
    "1. Get all links for the blog posts\n",
    "2. Get titles \n",
    "3. Get author\n",
    "4. Get publishing date and time\n",
    "5. Get num of likes and shares\n",
    "6. Get num of comments on each post\n",
    "7. Get contents of comments\n",
    "8. Store all the above in a data frame (Using pandas ?)\n"
   ]
  },
  {
   "cell_type": "code",
   "execution_count": 263,
   "metadata": {
    "collapsed": false
   },
   "outputs": [],
   "source": [
    "import requests\n",
    "import bs4 \n",
    "import urllib2\n",
    "import pandas as pd\n",
    "import warnings\n",
    "warnings.filterwarnings('ignore')"
   ]
  },
  {
   "cell_type": "code",
   "execution_count": 264,
   "metadata": {
    "collapsed": true
   },
   "outputs": [],
   "source": [
    "blog=requests.get(\"https://textnook.wordpress.com/\")\n",
    "\n",
    "\n",
    "blog_bs4 = bs4.BeautifulSoup(blog.text)"
   ]
  },
  {
   "cell_type": "code",
   "execution_count": 260,
   "metadata": {
    "collapsed": false
   },
   "outputs": [
    {
     "name": "stdout",
     "output_type": "stream",
     "text": [
      "Menu\n",
      "TextNook\n",
      "Post navigation\n",
      "The Flyover May Fall, Kolkata Won’t\n",
      "CHENNAI STANDS TOGETHER !!\n",
      "How to prepare just before an interview\n",
      "5 Benefits of Volunteering in College\n",
      "How to know you are overstressed in college?\n",
      "Best telephone interview tips\n",
      "What to do if you cannot sleep before an exam?\n",
      "Group Discussion Do’s and Don’ts\n",
      "What’s the best approach to exams?\n",
      "How to write a good CV\n",
      "Post navigation\n",
      "Archives\n",
      "Categories\n",
      "Follow Blog via Email\n"
     ]
    }
   ],
   "source": [
    "titles=blog_bs4.select('h1')\n",
    "\n",
    "for i in range(len(titles)):\n",
    "    if titles[i].get('rel')!=None:\n",
    "        if 'bookmark' in titles[i].get('rel'):\n",
    "            print titles[i].getText('rel')\n",
    "    else:\n",
    "        print titles[i].getText('h1')"
   ]
  },
  {
   "cell_type": "code",
   "execution_count": null,
   "metadata": {
    "collapsed": true
   },
   "outputs": [],
   "source": [
    "#How to get only the titles for a blog under H1?"
   ]
  },
  {
   "cell_type": "code",
   "execution_count": 266,
   "metadata": {
    "collapsed": false
   },
   "outputs": [
    {
     "name": "stdout",
     "output_type": "stream",
     "text": [
      "The Flyover May Fall, Kolkata Won’t\n",
      "CHENNAI STANDS TOGETHER !!\n",
      "How to prepare just before an interview\n",
      "5 Benefits of Volunteering in College\n",
      "How to know you are overstressed in college?\n",
      "Best telephone interview tips\n",
      "What to do if you cannot sleep before an exam?\n",
      "Group Discussion Do’s and Don’ts\n",
      "What’s the best approach to exams?\n",
      "How to write a good CV\n"
     ]
    }
   ],
   "source": [
    "link=urllib2.urlopen('https://textnook.wordpress.com/')\n",
    "\n",
    "soup= bs4.BeautifulSoup(link,from_encoding=\"utf-8\")\n",
    "\n",
    "blog_titles=soup.findAll('h1',class_='entry-title')\n",
    "\n",
    "titles_list=[]\n",
    "for i in range(len(blog_titles)):\n",
    "    titles_list.append(blog_titles[i].getText('bookmark'))\n",
    "\n",
    "for i in range(len(titles_list)):\n",
    "    print titles_list[i]"
   ]
  },
  {
   "cell_type": "code",
   "execution_count": 268,
   "metadata": {
    "collapsed": true
   },
   "outputs": [],
   "source": [
    "#How to get all info of a page at once and avoid multiple loops ?\n",
    "\n",
    "#How to get all pages in a blog ?"
   ]
  },
  {
   "cell_type": "code",
   "execution_count": null,
   "metadata": {
    "collapsed": true
   },
   "outputs": [],
   "source": []
  }
 ],
 "metadata": {
  "kernelspec": {
   "display_name": "Python 2",
   "language": "python",
   "name": "python2"
  },
  "language_info": {
   "codemirror_mode": {
    "name": "ipython",
    "version": 2
   },
   "file_extension": ".py",
   "mimetype": "text/x-python",
   "name": "python",
   "nbconvert_exporter": "python",
   "pygments_lexer": "ipython2",
   "version": "2.7.11"
  }
 },
 "nbformat": 4,
 "nbformat_minor": 0
}
